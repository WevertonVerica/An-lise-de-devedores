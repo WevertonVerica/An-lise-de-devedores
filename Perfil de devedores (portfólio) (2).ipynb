{
 "cells": [
  {
   "cell_type": "markdown",
   "id": "9dd4adf6",
   "metadata": {},
   "source": [
    "# **Resumo**"
   ]
  },
  {
   "cell_type": "markdown",
   "id": "8aea5bbe",
   "metadata": {},
   "source": [
    "\n",
    "Devido ao alto número de devedores no município e aos diversos casos em que acordos são realizados, mas não são honrados, torna-se essencial encontrar formas de aumentar a taxa de pagamento e beneficiar os contribuintes que cumprem com suas obrigações. Com esse objetivo, este projeto visa realizar uma análise descritiva prévia e elaborar um perfil para cada contribuinte que possui débitos, classificando-os como bons, médios ou maus pagadores. Essa classificação permitirá a definição de acordos personalizados, como descontos maiores para bons pagadores ou a exigência de pagamento à vista de uma porcentagem para maus pagadores.\n",
    "\n",
    "O cliente solicitou a utilização de modelos de ciência de dados para diferenciar os devedores, de modo que fosse possível estabelecer condições específicas para cada perfil, por conta disso o modelo utilizado sera baseado no algoritmo de classificação 'Árvore de decisão', pois ele permite visualizar as regras utilizadas na classificação. Além disso, foram solicitadas análises estatísticas, como o valor total das dívidas, a quantidade de devedores que não cumpriram acordos anteriores, entre outras métricas.\n",
    "\n",
    "O projeto foi desenvolvido com o auxilio de um especialista na regra de negócio, garantindo alinhamento com as necessidades do cliente, além disso o projeto também foi dividido em duas etapas:\n",
    "\n",
    "1. Análise estatística: Construção de um dashboard com as informações solicitadas.\n",
    "\n",
    "2. Classificação dos devedores: Utilização de um algoritmo de classificação para segmentar os devedores em três grupos (bons, médios e maus pagadores)."
   ]
  },
  {
   "cell_type": "markdown",
   "id": "d7b7877d",
   "metadata": {},
   "source": [
    "# **Metodologia**"
   ]
  },
  {
   "cell_type": "markdown",
   "id": "cfa333f7",
   "metadata": {},
   "source": [
    "Os dados foram fornecidos em arquivos TXT separados e consolidados em uma única tabela, que passou por formatação e ajustes para análise exploratória e aplicação do modelo. Em seguida, foram sorteadas 200 pessoas para compor a amostra, e, com o auxílio de um especialista na regra de negócio, cada uma foi classificada manualmente.\n",
    "\n",
    "Com essa amostra, foram treinados e validados três algoritmos diferentes, testando diversos parâmetros. Embora o objetivo inicial fosse utilizar uma árvore de decisão, outros dois classificadores foram avaliados para comparação. Após analisar os resultados, o modelo foi aplicado a toda a base de dados.\n",
    "\n",
    "Por fim, os resultados foram organizados em uma tabela com a classificação de cada pessoa e apresentados em um dashboard no Power BI."
   ]
  },
  {
   "cell_type": "markdown",
   "id": "bcec97c8",
   "metadata": {},
   "source": [
    "![Descrição da imagem](fluxo.png)"
   ]
  },
  {
   "cell_type": "markdown",
   "id": "ae7e8777",
   "metadata": {},
   "source": [
    "# **Inicio do cógigo**"
   ]
  },
  {
   "cell_type": "markdown",
   "id": "f4919dd9",
   "metadata": {},
   "source": [
    "Importando a biblioteca utilizada"
   ]
  },
  {
   "cell_type": "code",
   "execution_count": 1,
   "id": "5cd86a16",
   "metadata": {},
   "outputs": [],
   "source": [
    "import pandas as pd\n",
    "import sklearn as sk\n",
    "import matplotlib as plt\n",
    "import numpy as np\n",
    "from sklearn.metrics import classification_report, confusion_matrix\n",
    "import matplotlib.pyplot as plt\n",
    "from sklearn import metrics\n",
    "import time\n",
    "from sklearn.ensemble import RandomForestClassifier\n",
    "from sklearn.neighbors import KNeighborsClassifier\n",
    "from sklearn.metrics import accuracy_score\n",
    "import matplotlib.pyplot as plt\n",
    "import os\n",
    "import seaborn as sns"
   ]
  },
  {
   "cell_type": "markdown",
   "id": "d6db18df",
   "metadata": {},
   "source": [
    "A base de dados foi fornecida em formato de várias tabelas em arquivos .txt. Para a divulgação deste portfólio, algumas informações sensíveis foram excluídas ou codificadas, a fim de preservar a privacidade dos contribuintes."
   ]
  },
  {
   "cell_type": "code",
   "execution_count": 51,
   "id": "286b79d8",
   "metadata": {},
   "outputs": [],
   "source": [
    "dados = pd.read_excel('novodevedores.xlsx')"
   ]
  },
  {
   "cell_type": "code",
   "execution_count": 52,
   "id": "7d504b81",
   "metadata": {},
   "outputs": [
    {
     "data": {
      "text/html": [
       "<div>\n",
       "<style scoped>\n",
       "    .dataframe tbody tr th:only-of-type {\n",
       "        vertical-align: middle;\n",
       "    }\n",
       "\n",
       "    .dataframe tbody tr th {\n",
       "        vertical-align: top;\n",
       "    }\n",
       "\n",
       "    .dataframe thead th {\n",
       "        text-align: right;\n",
       "    }\n",
       "</style>\n",
       "<table border=\"1\" class=\"dataframe\">\n",
       "  <thead>\n",
       "    <tr style=\"text-align: right;\">\n",
       "      <th></th>\n",
       "      <th>unicodigo</th>\n",
       "      <th>inscritoDA</th>\n",
       "      <th>parcelado</th>\n",
       "      <th>parceladopago</th>\n",
       "      <th>quant</th>\n",
       "      <th>aberto</th>\n",
       "      <th>pago</th>\n",
       "      <th>qparceladopago</th>\n",
       "      <th>exerciciopago</th>\n",
       "      <th>Situação</th>\n",
       "      <th>exercicioaberto</th>\n",
       "      <th>Dividaexercicio</th>\n",
       "      <th>%pago/aberto</th>\n",
       "      <th>%quant.parcelado</th>\n",
       "    </tr>\n",
       "  </thead>\n",
       "  <tbody>\n",
       "    <tr>\n",
       "      <th>0</th>\n",
       "      <td>1.0</td>\n",
       "      <td>1.086714e+07</td>\n",
       "      <td>162378.73</td>\n",
       "      <td>488232.49</td>\n",
       "      <td>153.0</td>\n",
       "      <td>5174108.01</td>\n",
       "      <td>2.415377e+07</td>\n",
       "      <td>29.0</td>\n",
       "      <td>2.371430e+07</td>\n",
       "      <td>Cancelado</td>\n",
       "      <td>4783819.24</td>\n",
       "      <td>390288.77</td>\n",
       "      <td>21.421534</td>\n",
       "      <td>18.954248</td>\n",
       "    </tr>\n",
       "    <tr>\n",
       "      <th>1</th>\n",
       "      <td>2.0</td>\n",
       "      <td>NaN</td>\n",
       "      <td>NaN</td>\n",
       "      <td>NaN</td>\n",
       "      <td>NaN</td>\n",
       "      <td>NaN</td>\n",
       "      <td>1.719990e+03</td>\n",
       "      <td>NaN</td>\n",
       "      <td>1.719990e+03</td>\n",
       "      <td>NaN</td>\n",
       "      <td>NaN</td>\n",
       "      <td>NaN</td>\n",
       "      <td>NaN</td>\n",
       "      <td>NaN</td>\n",
       "    </tr>\n",
       "    <tr>\n",
       "      <th>2</th>\n",
       "      <td>3.0</td>\n",
       "      <td>NaN</td>\n",
       "      <td>NaN</td>\n",
       "      <td>NaN</td>\n",
       "      <td>NaN</td>\n",
       "      <td>NaN</td>\n",
       "      <td>1.454130e+03</td>\n",
       "      <td>NaN</td>\n",
       "      <td>1.454130e+03</td>\n",
       "      <td>NaN</td>\n",
       "      <td>NaN</td>\n",
       "      <td>NaN</td>\n",
       "      <td>NaN</td>\n",
       "      <td>NaN</td>\n",
       "    </tr>\n",
       "    <tr>\n",
       "      <th>3</th>\n",
       "      <td>4.0</td>\n",
       "      <td>8.992150e+03</td>\n",
       "      <td>3449.38</td>\n",
       "      <td>20401.20</td>\n",
       "      <td>3.0</td>\n",
       "      <td>6448.75</td>\n",
       "      <td>4.195685e+04</td>\n",
       "      <td>NaN</td>\n",
       "      <td>3.299939e+04</td>\n",
       "      <td>Em Andamento</td>\n",
       "      <td>3940.08</td>\n",
       "      <td>2508.67</td>\n",
       "      <td>15.369959</td>\n",
       "      <td>NaN</td>\n",
       "    </tr>\n",
       "    <tr>\n",
       "      <th>4</th>\n",
       "      <td>5.0</td>\n",
       "      <td>5.643570e+03</td>\n",
       "      <td>3659.04</td>\n",
       "      <td>5974.74</td>\n",
       "      <td>3.0</td>\n",
       "      <td>7973.63</td>\n",
       "      <td>2.998170e+03</td>\n",
       "      <td>1.0</td>\n",
       "      <td>1.085580e+03</td>\n",
       "      <td>NaN</td>\n",
       "      <td>1077.93</td>\n",
       "      <td>6895.70</td>\n",
       "      <td>265.949896</td>\n",
       "      <td>33.333333</td>\n",
       "    </tr>\n",
       "    <tr>\n",
       "      <th>...</th>\n",
       "      <td>...</td>\n",
       "      <td>...</td>\n",
       "      <td>...</td>\n",
       "      <td>...</td>\n",
       "      <td>...</td>\n",
       "      <td>...</td>\n",
       "      <td>...</td>\n",
       "      <td>...</td>\n",
       "      <td>...</td>\n",
       "      <td>...</td>\n",
       "      <td>...</td>\n",
       "      <td>...</td>\n",
       "      <td>...</td>\n",
       "      <td>...</td>\n",
       "    </tr>\n",
       "    <tr>\n",
       "      <th>257042</th>\n",
       "      <td>257043.0</td>\n",
       "      <td>NaN</td>\n",
       "      <td>NaN</td>\n",
       "      <td>NaN</td>\n",
       "      <td>NaN</td>\n",
       "      <td>358.81</td>\n",
       "      <td>6.100000e+03</td>\n",
       "      <td>NaN</td>\n",
       "      <td>6.100000e+03</td>\n",
       "      <td>NaN</td>\n",
       "      <td>358.81</td>\n",
       "      <td>0.00</td>\n",
       "      <td>5.882131</td>\n",
       "      <td>NaN</td>\n",
       "    </tr>\n",
       "    <tr>\n",
       "      <th>257043</th>\n",
       "      <td>257044.0</td>\n",
       "      <td>NaN</td>\n",
       "      <td>NaN</td>\n",
       "      <td>NaN</td>\n",
       "      <td>NaN</td>\n",
       "      <td>290.85</td>\n",
       "      <td>3.127100e+02</td>\n",
       "      <td>NaN</td>\n",
       "      <td>3.127100e+02</td>\n",
       "      <td>NaN</td>\n",
       "      <td>290.85</td>\n",
       "      <td>0.00</td>\n",
       "      <td>93.009498</td>\n",
       "      <td>NaN</td>\n",
       "    </tr>\n",
       "    <tr>\n",
       "      <th>257044</th>\n",
       "      <td>257045.0</td>\n",
       "      <td>NaN</td>\n",
       "      <td>NaN</td>\n",
       "      <td>NaN</td>\n",
       "      <td>NaN</td>\n",
       "      <td>0.00</td>\n",
       "      <td>1.400000e+02</td>\n",
       "      <td>NaN</td>\n",
       "      <td>1.400000e+02</td>\n",
       "      <td>NaN</td>\n",
       "      <td>0.00</td>\n",
       "      <td>0.00</td>\n",
       "      <td>0.000000</td>\n",
       "      <td>NaN</td>\n",
       "    </tr>\n",
       "    <tr>\n",
       "      <th>257045</th>\n",
       "      <td>257046.0</td>\n",
       "      <td>NaN</td>\n",
       "      <td>NaN</td>\n",
       "      <td>NaN</td>\n",
       "      <td>NaN</td>\n",
       "      <td>0.00</td>\n",
       "      <td>5.000000e+01</td>\n",
       "      <td>NaN</td>\n",
       "      <td>5.000000e+01</td>\n",
       "      <td>NaN</td>\n",
       "      <td>0.00</td>\n",
       "      <td>0.00</td>\n",
       "      <td>0.000000</td>\n",
       "      <td>NaN</td>\n",
       "    </tr>\n",
       "    <tr>\n",
       "      <th>257046</th>\n",
       "      <td>NaN</td>\n",
       "      <td>NaN</td>\n",
       "      <td>NaN</td>\n",
       "      <td>NaN</td>\n",
       "      <td>NaN</td>\n",
       "      <td>NaN</td>\n",
       "      <td>NaN</td>\n",
       "      <td>NaN</td>\n",
       "      <td>NaN</td>\n",
       "      <td>Estornado</td>\n",
       "      <td>NaN</td>\n",
       "      <td>NaN</td>\n",
       "      <td>NaN</td>\n",
       "      <td>NaN</td>\n",
       "    </tr>\n",
       "  </tbody>\n",
       "</table>\n",
       "<p>257047 rows × 14 columns</p>\n",
       "</div>"
      ],
      "text/plain": [
       "        unicodigo    inscritoDA  parcelado  parceladopago  quant      aberto  \\\n",
       "0             1.0  1.086714e+07  162378.73      488232.49  153.0  5174108.01   \n",
       "1             2.0           NaN        NaN            NaN    NaN         NaN   \n",
       "2             3.0           NaN        NaN            NaN    NaN         NaN   \n",
       "3             4.0  8.992150e+03    3449.38       20401.20    3.0     6448.75   \n",
       "4             5.0  5.643570e+03    3659.04        5974.74    3.0     7973.63   \n",
       "...           ...           ...        ...            ...    ...         ...   \n",
       "257042   257043.0           NaN        NaN            NaN    NaN      358.81   \n",
       "257043   257044.0           NaN        NaN            NaN    NaN      290.85   \n",
       "257044   257045.0           NaN        NaN            NaN    NaN        0.00   \n",
       "257045   257046.0           NaN        NaN            NaN    NaN        0.00   \n",
       "257046        NaN           NaN        NaN            NaN    NaN         NaN   \n",
       "\n",
       "                pago  qparceladopago  exerciciopago      Situação  \\\n",
       "0       2.415377e+07            29.0   2.371430e+07     Cancelado   \n",
       "1       1.719990e+03             NaN   1.719990e+03           NaN   \n",
       "2       1.454130e+03             NaN   1.454130e+03           NaN   \n",
       "3       4.195685e+04             NaN   3.299939e+04  Em Andamento   \n",
       "4       2.998170e+03             1.0   1.085580e+03           NaN   \n",
       "...              ...             ...            ...           ...   \n",
       "257042  6.100000e+03             NaN   6.100000e+03           NaN   \n",
       "257043  3.127100e+02             NaN   3.127100e+02           NaN   \n",
       "257044  1.400000e+02             NaN   1.400000e+02           NaN   \n",
       "257045  5.000000e+01             NaN   5.000000e+01           NaN   \n",
       "257046           NaN             NaN            NaN     Estornado   \n",
       "\n",
       "        exercicioaberto  Dividaexercicio  %pago/aberto  %quant.parcelado  \n",
       "0            4783819.24        390288.77     21.421534         18.954248  \n",
       "1                   NaN              NaN           NaN               NaN  \n",
       "2                   NaN              NaN           NaN               NaN  \n",
       "3               3940.08          2508.67     15.369959               NaN  \n",
       "4               1077.93          6895.70    265.949896         33.333333  \n",
       "...                 ...              ...           ...               ...  \n",
       "257042           358.81             0.00      5.882131               NaN  \n",
       "257043           290.85             0.00     93.009498               NaN  \n",
       "257044             0.00             0.00      0.000000               NaN  \n",
       "257045             0.00             0.00      0.000000               NaN  \n",
       "257046              NaN              NaN           NaN               NaN  \n",
       "\n",
       "[257047 rows x 14 columns]"
      ]
     },
     "execution_count": 52,
     "metadata": {},
     "output_type": "execute_result"
    }
   ],
   "source": [
    "dados"
   ]
  },
  {
   "cell_type": "code",
   "execution_count": 53,
   "id": "1770ca34",
   "metadata": {},
   "outputs": [
    {
     "name": "stdout",
     "output_type": "stream",
     "text": [
      "<class 'pandas.core.frame.DataFrame'>\n",
      "RangeIndex: 257047 entries, 0 to 257046\n",
      "Data columns (total 14 columns):\n",
      " #   Column            Non-Null Count   Dtype  \n",
      "---  ------            --------------   -----  \n",
      " 0   unicodigo         257046 non-null  float64\n",
      " 1   inscritoDA        154185 non-null  float64\n",
      " 2   parcelado         86044 non-null   float64\n",
      " 3   parceladopago     84251 non-null   float64\n",
      " 4   quant             86044 non-null   float64\n",
      " 5   aberto            172223 non-null  float64\n",
      " 6   pago              236003 non-null  float64\n",
      " 7   qparceladopago    21584 non-null   float64\n",
      " 8   exerciciopago     223046 non-null  float64\n",
      " 9   Situação          24490 non-null   object \n",
      " 10  exercicioaberto   159153 non-null  float64\n",
      " 11  Dividaexercicio   158560 non-null  float64\n",
      " 12  %pago/aberto      154470 non-null  float64\n",
      " 13  %quant.parcelado  21584 non-null   float64\n",
      "dtypes: float64(13), object(1)\n",
      "memory usage: 27.5+ MB\n"
     ]
    }
   ],
   "source": [
    "dados.info()"
   ]
  },
  {
   "cell_type": "code",
   "execution_count": 54,
   "id": "9d87a952",
   "metadata": {},
   "outputs": [
    {
     "data": {
      "text/plain": [
       "(257047, 14)"
      ]
     },
     "execution_count": 54,
     "metadata": {},
     "output_type": "execute_result"
    }
   ],
   "source": [
    "dados.shape"
   ]
  },
  {
   "cell_type": "code",
   "execution_count": 55,
   "id": "5d160c96",
   "metadata": {},
   "outputs": [
    {
     "data": {
      "text/html": [
       "<div>\n",
       "<style scoped>\n",
       "    .dataframe tbody tr th:only-of-type {\n",
       "        vertical-align: middle;\n",
       "    }\n",
       "\n",
       "    .dataframe tbody tr th {\n",
       "        vertical-align: top;\n",
       "    }\n",
       "\n",
       "    .dataframe thead th {\n",
       "        text-align: right;\n",
       "    }\n",
       "</style>\n",
       "<table border=\"1\" class=\"dataframe\">\n",
       "  <thead>\n",
       "    <tr style=\"text-align: right;\">\n",
       "      <th></th>\n",
       "      <th>unicodigo</th>\n",
       "      <th>inscritoDA</th>\n",
       "      <th>parcelado</th>\n",
       "      <th>parceladopago</th>\n",
       "      <th>quant</th>\n",
       "      <th>aberto</th>\n",
       "      <th>pago</th>\n",
       "      <th>qparceladopago</th>\n",
       "      <th>exerciciopago</th>\n",
       "      <th>exercicioaberto</th>\n",
       "      <th>Dividaexercicio</th>\n",
       "      <th>%pago/aberto</th>\n",
       "      <th>%quant.parcelado</th>\n",
       "    </tr>\n",
       "  </thead>\n",
       "  <tbody>\n",
       "    <tr>\n",
       "      <th>count</th>\n",
       "      <td>257046.000000</td>\n",
       "      <td>1.541850e+05</td>\n",
       "      <td>8.604400e+04</td>\n",
       "      <td>8.425100e+04</td>\n",
       "      <td>86044.000000</td>\n",
       "      <td>1.722230e+05</td>\n",
       "      <td>2.360030e+05</td>\n",
       "      <td>21584.000000</td>\n",
       "      <td>2.230460e+05</td>\n",
       "      <td>1.591530e+05</td>\n",
       "      <td>1.585600e+05</td>\n",
       "      <td>1.544700e+05</td>\n",
       "      <td>21584.000000</td>\n",
       "    </tr>\n",
       "    <tr>\n",
       "      <th>mean</th>\n",
       "      <td>128523.500000</td>\n",
       "      <td>2.159528e+05</td>\n",
       "      <td>5.432745e+03</td>\n",
       "      <td>4.128270e+04</td>\n",
       "      <td>5.256590</td>\n",
       "      <td>5.636754e+03</td>\n",
       "      <td>1.745775e+05</td>\n",
       "      <td>2.150760</td>\n",
       "      <td>3.583131e+04</td>\n",
       "      <td>3.290084e+03</td>\n",
       "      <td>2.595768e+03</td>\n",
       "      <td>inf</td>\n",
       "      <td>32.339785</td>\n",
       "    </tr>\n",
       "    <tr>\n",
       "      <th>std</th>\n",
       "      <td>74202.932984</td>\n",
       "      <td>8.516680e+06</td>\n",
       "      <td>3.659454e+04</td>\n",
       "      <td>3.278845e+05</td>\n",
       "      <td>39.275595</td>\n",
       "      <td>4.891077e+05</td>\n",
       "      <td>7.816326e+06</td>\n",
       "      <td>8.590186</td>\n",
       "      <td>3.631728e+06</td>\n",
       "      <td>5.022081e+05</td>\n",
       "      <td>7.357342e+04</td>\n",
       "      <td>NaN</td>\n",
       "      <td>24.917789</td>\n",
       "    </tr>\n",
       "    <tr>\n",
       "      <th>min</th>\n",
       "      <td>1.000000</td>\n",
       "      <td>0.000000e+00</td>\n",
       "      <td>2.800000e-01</td>\n",
       "      <td>2.800000e-01</td>\n",
       "      <td>1.000000</td>\n",
       "      <td>0.000000e+00</td>\n",
       "      <td>0.000000e+00</td>\n",
       "      <td>1.000000</td>\n",
       "      <td>0.000000e+00</td>\n",
       "      <td>0.000000e+00</td>\n",
       "      <td>-9.296984e+05</td>\n",
       "      <td>0.000000e+00</td>\n",
       "      <td>1.020408</td>\n",
       "    </tr>\n",
       "    <tr>\n",
       "      <th>25%</th>\n",
       "      <td>64262.250000</td>\n",
       "      <td>2.901300e+02</td>\n",
       "      <td>5.390475e+02</td>\n",
       "      <td>1.102420e+03</td>\n",
       "      <td>1.000000</td>\n",
       "      <td>4.122000e+01</td>\n",
       "      <td>1.774100e+02</td>\n",
       "      <td>1.000000</td>\n",
       "      <td>1.789925e+02</td>\n",
       "      <td>0.000000e+00</td>\n",
       "      <td>0.000000e+00</td>\n",
       "      <td>1.348392e+00</td>\n",
       "      <td>14.285714</td>\n",
       "    </tr>\n",
       "    <tr>\n",
       "      <th>50%</th>\n",
       "      <td>128523.500000</td>\n",
       "      <td>1.355990e+03</td>\n",
       "      <td>1.675780e+03</td>\n",
       "      <td>6.901380e+03</td>\n",
       "      <td>3.000000</td>\n",
       "      <td>4.942400e+02</td>\n",
       "      <td>3.060630e+03</td>\n",
       "      <td>1.000000</td>\n",
       "      <td>2.124485e+03</td>\n",
       "      <td>2.908500e+02</td>\n",
       "      <td>0.000000e+00</td>\n",
       "      <td>7.744443e+00</td>\n",
       "      <td>25.000000</td>\n",
       "    </tr>\n",
       "    <tr>\n",
       "      <th>75%</th>\n",
       "      <td>192784.750000</td>\n",
       "      <td>4.806480e+03</td>\n",
       "      <td>4.243110e+03</td>\n",
       "      <td>2.708910e+04</td>\n",
       "      <td>6.000000</td>\n",
       "      <td>1.918895e+03</td>\n",
       "      <td>1.216168e+04</td>\n",
       "      <td>2.000000</td>\n",
       "      <td>8.513139e+03</td>\n",
       "      <td>9.116200e+02</td>\n",
       "      <td>6.323175e+02</td>\n",
       "      <td>3.764967e+01</td>\n",
       "      <td>44.444444</td>\n",
       "    </tr>\n",
       "    <tr>\n",
       "      <th>max</th>\n",
       "      <td>257046.000000</td>\n",
       "      <td>1.564166e+09</td>\n",
       "      <td>3.754389e+06</td>\n",
       "      <td>4.206172e+07</td>\n",
       "      <td>5952.000000</td>\n",
       "      <td>2.000001e+08</td>\n",
       "      <td>1.564166e+09</td>\n",
       "      <td>662.000000</td>\n",
       "      <td>1.478467e+09</td>\n",
       "      <td>2.000000e+08</td>\n",
       "      <td>1.920864e+07</td>\n",
       "      <td>inf</td>\n",
       "      <td>100.000000</td>\n",
       "    </tr>\n",
       "  </tbody>\n",
       "</table>\n",
       "</div>"
      ],
      "text/plain": [
       "           unicodigo    inscritoDA     parcelado  parceladopago         quant  \\\n",
       "count  257046.000000  1.541850e+05  8.604400e+04   8.425100e+04  86044.000000   \n",
       "mean   128523.500000  2.159528e+05  5.432745e+03   4.128270e+04      5.256590   \n",
       "std     74202.932984  8.516680e+06  3.659454e+04   3.278845e+05     39.275595   \n",
       "min         1.000000  0.000000e+00  2.800000e-01   2.800000e-01      1.000000   \n",
       "25%     64262.250000  2.901300e+02  5.390475e+02   1.102420e+03      1.000000   \n",
       "50%    128523.500000  1.355990e+03  1.675780e+03   6.901380e+03      3.000000   \n",
       "75%    192784.750000  4.806480e+03  4.243110e+03   2.708910e+04      6.000000   \n",
       "max    257046.000000  1.564166e+09  3.754389e+06   4.206172e+07   5952.000000   \n",
       "\n",
       "             aberto          pago  qparceladopago  exerciciopago  \\\n",
       "count  1.722230e+05  2.360030e+05    21584.000000   2.230460e+05   \n",
       "mean   5.636754e+03  1.745775e+05        2.150760   3.583131e+04   \n",
       "std    4.891077e+05  7.816326e+06        8.590186   3.631728e+06   \n",
       "min    0.000000e+00  0.000000e+00        1.000000   0.000000e+00   \n",
       "25%    4.122000e+01  1.774100e+02        1.000000   1.789925e+02   \n",
       "50%    4.942400e+02  3.060630e+03        1.000000   2.124485e+03   \n",
       "75%    1.918895e+03  1.216168e+04        2.000000   8.513139e+03   \n",
       "max    2.000001e+08  1.564166e+09      662.000000   1.478467e+09   \n",
       "\n",
       "       exercicioaberto  Dividaexercicio  %pago/aberto  %quant.parcelado  \n",
       "count     1.591530e+05     1.585600e+05  1.544700e+05      21584.000000  \n",
       "mean      3.290084e+03     2.595768e+03           inf         32.339785  \n",
       "std       5.022081e+05     7.357342e+04           NaN         24.917789  \n",
       "min       0.000000e+00    -9.296984e+05  0.000000e+00          1.020408  \n",
       "25%       0.000000e+00     0.000000e+00  1.348392e+00         14.285714  \n",
       "50%       2.908500e+02     0.000000e+00  7.744443e+00         25.000000  \n",
       "75%       9.116200e+02     6.323175e+02  3.764967e+01         44.444444  \n",
       "max       2.000000e+08     1.920864e+07           inf        100.000000  "
      ]
     },
     "execution_count": 55,
     "metadata": {},
     "output_type": "execute_result"
    }
   ],
   "source": [
    "dados.describe()"
   ]
  },
  {
   "cell_type": "code",
   "execution_count": 56,
   "id": "8dd4d18a",
   "metadata": {},
   "outputs": [],
   "source": [
    "correlation_matrix = dados.corr(method='pearson')"
   ]
  },
  {
   "cell_type": "code",
   "execution_count": 57,
   "id": "4eaa9b2a",
   "metadata": {},
   "outputs": [
    {
     "data": {
      "image/png": "[encoded data removed]",
      "text/plain": [
       "<Figure size 1000x800 with 2 Axes>"
      ]
     },
     "metadata": {},
     "output_type": "display_data"
    }
   ],
   "source": [
    "plt.figure(figsize=(10, 8))\n",
    "sns.heatmap(correlation_matrix, annot=True, cmap='coolwarm', fmt=\".2f\", linewidths=0.5)\n",
    "plt.title(\"Mapa de Correlação\")\n",
    "plt.show()"
   ]
  },
  {
   "cell_type": "markdown",
   "id": "2380b576",
   "metadata": {},
   "source": [
    "Gerou-se a matriz de correlação para todas as variáveis, exceto a variável \"situação\", por ser uma variável qualitativa. Com isso, identificamos uma correlação de 0,99 entre as variáveis \"aberto\" e \"dividaexercicio\", além de outras duas correlações acima de 0,9.\n",
    "\n",
    "No entanto, como o algoritmo a ser aplicado é a Árvore de Decisão, que permite o uso de variáveis com alta correlação, optamos por remover apenas as variáveis \"dividaexercicio\" e \"situação\" para a aplicação do modelo. A remoção de \"dividaexercicio\" foi feita para evitar redundância, enquanto a variável \"situação\" foi excluída por ser qualitativa e não adequada para o modelo.\n",
    "\n",
    "Para a análise descritiva e a construção do dashboard com as informações solicitadas, utilizamos todas as variáveis disponíveis. Além disso, elaboramos uma apresentação interativa no Power BI para demonstrar as análises estatísticas de forma clara e visual."
   ]
  },
  {
   "cell_type": "markdown",
   "id": "3bc8c967",
   "metadata": {},
   "source": [
    "Analise do dashbord"
   ]
  },
  {
   "cell_type": "markdown",
   "id": "9fefbb1d",
   "metadata": {},
   "source": [
    "![Dashboard de parcelamento](dash_parcelamento.png)"
   ]
  },
  {
   "cell_type": "markdown",
   "id": "81257b9d",
   "metadata": {},
   "source": [
    "O objetivo deste dashboard é evidenciar a baixa taxa de pagamento dos parcelamentos, destacando que eles representam um volume significativo (452 mil). Além disso, ele apresenta, em valores, o montante potencial para novos parcelamentos, considerando que valores em aberto de exercícios não são elegíveis para essa modalidade.\n",
    "\n",
    "Outro ponto relevante é a grande quantidade de parcelamentos sem nenhum pagamento, totalizando um pouco mais de 64 mil. Além da análise dos casos com pagamento zero, o dashboard também inclui um gráfico que mostra a distribuição dos parcelamentos de acordo com diferentes taxas de adimplência."
   ]
  },
  {
   "cell_type": "markdown",
   "id": "977d879f",
   "metadata": {},
   "source": [
    "![Descrição da imagem](dash_contribuinte.png)"
   ]
  },
  {
   "cell_type": "markdown",
   "id": "3e8b8329",
   "metadata": {},
   "source": [
    "Para finalizar a análise exploratória elaboramos um dashboard por contribuinte, sendo que este fornece uma visão geral por pessoa, apresentando rankings de devedores e pagadores. Ao selecionar um indivíduo específico, é possível acessar informações detalhadas sobre o mesmo. Além disso, no caso dos devedores, é possível identificar facilmente aqueles que possuem valores significativamente mais altos do que os demais."
   ]
  },
  {
   "cell_type": "markdown",
   "id": "a3e7cc45",
   "metadata": {},
   "source": [
    "# **Aplicação do modelo**"
   ]
  },
  {
   "cell_type": "markdown",
   "id": "332aee4b",
   "metadata": {},
   "source": [
    "Na sequência, os dados serão preparados para a aplicação do modelo. Para isso, serão realizadas as seguintes etapas:\n",
    "\n",
    "Remoção das variáveis citadas anteriormente: As variáveis \"dividaexercicio\" e \"situação\" serão excluídas, conforme explicado.\n",
    "\n",
    "Tratamento de valores nulos: Os valores NaN serão substituídos por 0, garantindo que não haja dados faltantes que possam interferir no modelo.\n",
    "\n",
    "Amostragem: Será utilizada uma amostra de 200 devedores, previamente classificada por um especialista em três categorias: bom, médio e mau pagador. Essa amostra servirá como base para o treinamento e validação do modelo."
   ]
  },
  {
   "cell_type": "code",
   "execution_count": 58,
   "id": "54f609a1",
   "metadata": {},
   "outputs": [],
   "source": [
    "dados = dados.fillna(0)"
   ]
  },
  {
   "cell_type": "code",
   "execution_count": 59,
   "id": "12992be7",
   "metadata": {},
   "outputs": [],
   "source": [
    "dados = dados.drop(['Situação', 'Dividaexercicio'], axis = 1)\n",
    "dados.replace([np.inf, -np.inf], 99999999999999, inplace=True)"
   ]
  },
  {
   "cell_type": "code",
   "execution_count": 60,
   "id": "828b92f4",
   "metadata": {},
   "outputs": [],
   "source": [
    "amostra = pd.read_excel('amostra_portifolio.xlsx')"
   ]
  },
  {
   "cell_type": "code",
   "execution_count": 61,
   "id": "77b39815",
   "metadata": {},
   "outputs": [
    {
     "data": {
      "text/html": [
       "<div>\n",
       "<style scoped>\n",
       "    .dataframe tbody tr th:only-of-type {\n",
       "        vertical-align: middle;\n",
       "    }\n",
       "\n",
       "    .dataframe tbody tr th {\n",
       "        vertical-align: top;\n",
       "    }\n",
       "\n",
       "    .dataframe thead th {\n",
       "        text-align: right;\n",
       "    }\n",
       "</style>\n",
       "<table border=\"1\" class=\"dataframe\">\n",
       "  <thead>\n",
       "    <tr style=\"text-align: right;\">\n",
       "      <th></th>\n",
       "      <th>unicodigo</th>\n",
       "      <th>resposta</th>\n",
       "    </tr>\n",
       "  </thead>\n",
       "  <tbody>\n",
       "    <tr>\n",
       "      <th>0</th>\n",
       "      <td>34801.0</td>\n",
       "      <td>1</td>\n",
       "    </tr>\n",
       "    <tr>\n",
       "      <th>1</th>\n",
       "      <td>114098.0</td>\n",
       "      <td>3</td>\n",
       "    </tr>\n",
       "    <tr>\n",
       "      <th>2</th>\n",
       "      <td>120981.0</td>\n",
       "      <td>2</td>\n",
       "    </tr>\n",
       "    <tr>\n",
       "      <th>3</th>\n",
       "      <td>205945.0</td>\n",
       "      <td>2</td>\n",
       "    </tr>\n",
       "    <tr>\n",
       "      <th>4</th>\n",
       "      <td>74362.0</td>\n",
       "      <td>3</td>\n",
       "    </tr>\n",
       "    <tr>\n",
       "      <th>...</th>\n",
       "      <td>...</td>\n",
       "      <td>...</td>\n",
       "    </tr>\n",
       "    <tr>\n",
       "      <th>195</th>\n",
       "      <td>45012.0</td>\n",
       "      <td>1</td>\n",
       "    </tr>\n",
       "    <tr>\n",
       "      <th>196</th>\n",
       "      <td>60718.0</td>\n",
       "      <td>3</td>\n",
       "    </tr>\n",
       "    <tr>\n",
       "      <th>197</th>\n",
       "      <td>12665.0</td>\n",
       "      <td>1</td>\n",
       "    </tr>\n",
       "    <tr>\n",
       "      <th>198</th>\n",
       "      <td>109517.0</td>\n",
       "      <td>2</td>\n",
       "    </tr>\n",
       "    <tr>\n",
       "      <th>199</th>\n",
       "      <td>220706.0</td>\n",
       "      <td>3</td>\n",
       "    </tr>\n",
       "  </tbody>\n",
       "</table>\n",
       "<p>200 rows × 2 columns</p>\n",
       "</div>"
      ],
      "text/plain": [
       "     unicodigo  resposta\n",
       "0      34801.0         1\n",
       "1     114098.0         3\n",
       "2     120981.0         2\n",
       "3     205945.0         2\n",
       "4      74362.0         3\n",
       "..         ...       ...\n",
       "195    45012.0         1\n",
       "196    60718.0         3\n",
       "197    12665.0         1\n",
       "198   109517.0         2\n",
       "199   220706.0         3\n",
       "\n",
       "[200 rows x 2 columns]"
      ]
     },
     "execution_count": 61,
     "metadata": {},
     "output_type": "execute_result"
    }
   ],
   "source": [
    "amostra['resposta'] = amostra['resposta'].replace('R', 1)\n",
    "amostra['resposta'] = amostra['resposta'].replace('M', 2)\n",
    "amostra['resposta'] = amostra['resposta'].replace('B', 3)\n",
    "amostra"
   ]
  },
  {
   "cell_type": "code",
   "execution_count": 62,
   "id": "0cd177eb",
   "metadata": {},
   "outputs": [],
   "source": [
    "train = pd.merge(amostra, dados, on='unicodigo', how='inner')"
   ]
  },
  {
   "cell_type": "code",
   "execution_count": 63,
   "id": "904308b4",
   "metadata": {},
   "outputs": [],
   "source": [
    "correlation_matrix = train.corr(method='pearson')"
   ]
  },
  {
   "cell_type": "code",
   "execution_count": 64,
   "id": "6acbd47c",
   "metadata": {},
   "outputs": [
    {
     "data": {
      "image/png": "[encoded data removed]",
      "text/plain": [
       "<Figure size 1000x800 with 2 Axes>"
      ]
     },
     "metadata": {},
     "output_type": "display_data"
    }
   ],
   "source": [
    "plt.figure(figsize=(10, 8))\n",
    "sns.heatmap(correlation_matrix, annot=True, cmap='coolwarm', fmt=\".2f\", linewidths=0.5)\n",
    "plt.title(\"Mapa de Correlação\")\n",
    "plt.show()"
   ]
  },
  {
   "cell_type": "markdown",
   "id": "b6aa6c69",
   "metadata": {},
   "source": [
    "Vericou-se que não existe correlação alta entra a variavel resposta e outra variavel do modelo."
   ]
  },
  {
   "cell_type": "code",
   "execution_count": 65,
   "id": "85cf7284",
   "metadata": {},
   "outputs": [],
   "source": [
    "x = train.iloc[:, 2:13].values\n",
    "y = train['resposta'].values"
   ]
  },
  {
   "cell_type": "code",
   "execution_count": 111,
   "id": "a23f5b06",
   "metadata": {},
   "outputs": [],
   "source": [
    "df_temp = pd.DataFrame(train,columns=train.columns[2:13])\n",
    "from sklearn.model_selection import train_test_split\n",
    "x_treino,x_teste,y_treino,y_teste=train_test_split(df_temp,train['resposta'],test_size=0.5,stratify=train['resposta'])\n",
    "x_validacao,x_teste,y_validacao,y_teste=train_test_split(x_teste,y_teste,test_size=0.5, stratify = y_teste)"
   ]
  },
  {
   "cell_type": "markdown",
   "id": "8ec6b9bb",
   "metadata": {},
   "source": [
    "Embora tenha sido decidido, inicialmente, utilizar o classificador Árvore de Decisão (devido à sua interpretabilidade e capacidade de fornecer regras claras), resolvemos realizar testes adicionais com outros algoritmos, como KNN (K-Nearest Neighbors) e Random Forest, para verificar se haveria perdas significativas ao optar pelo método que nos permite entender as regras utilizadas.\n",
    "\n",
    "Essa abordagem nos permitiu comparar o desempenho dos modelos e avaliar se a escolha da Árvore de Decisão seria a mais adequada para o problema em questão, considerando tanto a acurácia quanto a interpretabilidade.\n",
    "\n",
    "Para realizar os testes de cada modelo, primeiramente foram analisadas as melhores configurações (hiperparâmetros) para cada um. Em seguida, foi realizada a comparação de 10 repetições de cada modelo em sua melhor parametrização, garantindo que os resultados fossem robustos e confiáveis."
   ]
  },
  {
   "cell_type": "markdown",
   "id": "d3871e9c",
   "metadata": {},
   "source": [
    "# KNN"
   ]
  },
  {
   "cell_type": "code",
   "execution_count": 109,
   "id": "311d1f98",
   "metadata": {},
   "outputs": [
    {
     "name": "stdout",
     "output_type": "stream",
     "text": [
      "Acc:  0.6 n vizinhos:  1 distancia:  uniform\n",
      "Acc:  0.6 n vizinhos:  1 distancia:  distance\n",
      "Acc:  0.5 n vizinhos:  2 distancia:  uniform\n",
      "Acc:  0.6 n vizinhos:  2 distancia:  distance\n",
      "Acc:  0.52 n vizinhos:  3 distancia:  uniform\n",
      "Acc:  0.58 n vizinhos:  3 distancia:  distance\n",
      "Acc:  0.54 n vizinhos:  4 distancia:  uniform\n",
      "Acc:  0.56 n vizinhos:  4 distancia:  distance\n",
      "Acc:  0.56 n vizinhos:  5 distancia:  uniform\n",
      "Acc:  0.6 n vizinhos:  5 distancia:  distance\n",
      "Acc:  0.64 n vizinhos:  6 distancia:  uniform\n",
      "Acc:  0.66 n vizinhos:  6 distancia:  distance\n",
      "Acc:  0.64 n vizinhos:  7 distancia:  uniform\n",
      "Acc:  0.62 n vizinhos:  7 distancia:  distance\n",
      "Acc:  0.64 n vizinhos:  8 distancia:  uniform\n",
      "Acc:  0.64 n vizinhos:  8 distancia:  distance\n",
      "Acc:  0.6 n vizinhos:  9 distancia:  uniform\n",
      "Acc:  0.62 n vizinhos:  9 distancia:  distance\n",
      "Acc:  0.6 n vizinhos:  10 distancia:  uniform\n",
      "Acc:  0.64 n vizinhos:  10 distancia:  distance\n",
      "Acc:  0.56 n vizinhos:  11 distancia:  uniform\n",
      "Acc:  0.58 n vizinhos:  11 distancia:  distance\n",
      "Acc:  0.52 n vizinhos:  12 distancia:  uniform\n",
      "Acc:  0.6 n vizinhos:  12 distancia:  distance\n",
      "Acc:  0.52 n vizinhos:  13 distancia:  uniform\n",
      "Acc:  0.58 n vizinhos:  13 distancia:  distance\n",
      "Acc:  0.52 n vizinhos:  14 distancia:  uniform\n",
      "Acc:  0.56 n vizinhos:  14 distancia:  distance\n",
      "Acc:  0.5 n vizinhos:  15 distancia:  uniform\n",
      "Acc:  0.56 n vizinhos:  15 distancia:  distance\n",
      "Acc:  0.5 n vizinhos:  16 distancia:  uniform\n",
      "Acc:  0.52 n vizinhos:  16 distancia:  distance\n",
      "Acc:  0.5 n vizinhos:  17 distancia:  uniform\n",
      "Acc:  0.54 n vizinhos:  17 distancia:  distance\n",
      "Acc:  0.5 n vizinhos:  18 distancia:  uniform\n",
      "Acc:  0.52 n vizinhos:  18 distancia:  distance\n",
      "Acc:  0.5 n vizinhos:  19 distancia:  uniform\n",
      "Acc:  0.54 n vizinhos:  19 distancia:  distance\n",
      "Acc:  0.5 n vizinhos:  20 distancia:  uniform\n",
      "Acc:  0.52 n vizinhos:  20 distancia:  distance\n",
      "Acc:  0.5 n vizinhos:  21 distancia:  uniform\n",
      "Acc:  0.52 n vizinhos:  21 distancia:  distance\n",
      "Acc:  0.52 n vizinhos:  22 distancia:  uniform\n",
      "Acc:  0.52 n vizinhos:  22 distancia:  distance\n",
      "Acc:  0.54 n vizinhos:  23 distancia:  uniform\n",
      "Acc:  0.52 n vizinhos:  23 distancia:  distance\n",
      "Acc:  0.54 n vizinhos:  24 distancia:  uniform\n",
      "Acc:  0.52 n vizinhos:  24 distancia:  distance\n",
      "Acc:  0.52 n vizinhos:  25 distancia:  uniform\n",
      "Acc:  0.52 n vizinhos:  25 distancia:  distance\n",
      "Acc:  0.54 n vizinhos:  26 distancia:  uniform\n",
      "Acc:  0.52 n vizinhos:  26 distancia:  distance\n",
      "Acc:  0.52 n vizinhos:  27 distancia:  uniform\n",
      "Acc:  0.54 n vizinhos:  27 distancia:  distance\n",
      "Acc:  0.54 n vizinhos:  28 distancia:  uniform\n",
      "Acc:  0.54 n vizinhos:  28 distancia:  distance\n",
      "Acc:  0.54 n vizinhos:  29 distancia:  uniform\n",
      "Acc:  0.54 n vizinhos:  29 distancia:  distance\n",
      "Acc:  0.56 n vizinhos:  30 distancia:  uniform\n",
      "Acc:  0.54 n vizinhos:  30 distancia:  distance\n",
      "Acc:  0.56 n vizinhos:  31 distancia:  uniform\n",
      "Acc:  0.58 n vizinhos:  31 distancia:  distance\n",
      "Acc:  0.56 n vizinhos:  32 distancia:  uniform\n",
      "Acc:  0.54 n vizinhos:  32 distancia:  distance\n",
      "Acc:  0.54 n vizinhos:  33 distancia:  uniform\n",
      "Acc:  0.54 n vizinhos:  33 distancia:  distance\n",
      "Acc:  0.54 n vizinhos:  34 distancia:  uniform\n",
      "Acc:  0.56 n vizinhos:  34 distancia:  distance\n",
      "Acc:  0.52 n vizinhos:  35 distancia:  uniform\n",
      "Acc:  0.58 n vizinhos:  35 distancia:  distance\n",
      "Acc:  0.56 n vizinhos:  36 distancia:  uniform\n",
      "Acc:  0.58 n vizinhos:  36 distancia:  distance\n",
      "Acc:  0.54 n vizinhos:  37 distancia:  uniform\n",
      "Acc:  0.56 n vizinhos:  37 distancia:  distance\n",
      "Acc:  0.56 n vizinhos:  38 distancia:  uniform\n",
      "Acc:  0.58 n vizinhos:  38 distancia:  distance\n",
      "Acc:  0.56 n vizinhos:  39 distancia:  uniform\n",
      "Acc:  0.58 n vizinhos:  39 distancia:  distance\n",
      "Acc:  0.56 n vizinhos:  40 distancia:  uniform\n",
      "Acc:  0.56 n vizinhos:  40 distancia:  distance\n",
      "Acc:  0.56 n vizinhos:  41 distancia:  uniform\n",
      "Acc:  0.58 n vizinhos:  41 distancia:  distance\n",
      "Acc:  0.56 n vizinhos:  42 distancia:  uniform\n",
      "Acc:  0.56 n vizinhos:  42 distancia:  distance\n",
      "Acc:  0.54 n vizinhos:  43 distancia:  uniform\n",
      "Acc:  0.56 n vizinhos:  43 distancia:  distance\n",
      "Acc:  0.54 n vizinhos:  44 distancia:  uniform\n",
      "Acc:  0.56 n vizinhos:  44 distancia:  distance\n",
      "Acc:  0.52 n vizinhos:  45 distancia:  uniform\n",
      "Acc:  0.56 n vizinhos:  45 distancia:  distance\n",
      "Acc:  0.52 n vizinhos:  46 distancia:  uniform\n",
      "Acc:  0.56 n vizinhos:  46 distancia:  distance\n",
      "Acc:  0.52 n vizinhos:  47 distancia:  uniform\n",
      "Acc:  0.56 n vizinhos:  47 distancia:  distance\n",
      "Acc:  0.54 n vizinhos:  48 distancia:  uniform\n",
      "Acc:  0.56 n vizinhos:  48 distancia:  distance\n",
      "Acc:  0.52 n vizinhos:  49 distancia:  uniform\n",
      "Acc:  0.56 n vizinhos:  49 distancia:  distance\n",
      "Acc:  0.54 n vizinhos:  50 distancia:  uniform\n",
      "Acc:  0.56 n vizinhos:  50 distancia:  distance\n"
     ]
    }
   ],
   "source": [
    "for i in range(1,51):\n",
    "  for j in [\"uniform\",\"distance\"]:\n",
    "    KNN = KNeighborsClassifier(n_neighbors=i,weights=j)\n",
    "    KNN.fit(x_treino,y_treino)\n",
    "    opiniao = KNN.predict(x_validacao)\n",
    "    pred = KNN.predict(x_validacao)\n",
    "    print(\"Acc: \",accuracy_score(y_validacao, opiniao), 'n vizinhos: ', i, 'distancia: ', j)"
   ]
  },
  {
   "cell_type": "markdown",
   "id": "968cd52a",
   "metadata": {},
   "source": [
    "Para o knn a melhor parametrização entre as analisadas foi de 4 vizinhos e usando distancia uniforme"
   ]
  },
  {
   "cell_type": "code",
   "execution_count": 95,
   "id": "87f5cb1b",
   "metadata": {},
   "outputs": [
    {
     "name": "stdout",
     "output_type": "stream",
     "text": [
      "Acc:  0.58\n"
     ]
    }
   ],
   "source": [
    "KNN = KNeighborsClassifier(n_neighbors=4,weights='uniform')\n",
    "KNN.fit(x_treino,y_treino)\n",
    "opiniao = KNN.predict(x_teste)\n",
    "print(\"Acc: \",accuracy_score(y_teste, opiniao))"
   ]
  },
  {
   "cell_type": "code",
   "execution_count": 96,
   "id": "d27dbf92",
   "metadata": {},
   "outputs": [
    {
     "name": "stdout",
     "output_type": "stream",
     "text": [
      "AUC KNN:  0.6798245614035088\n"
     ]
    }
   ],
   "source": [
    "y_score = KNN.predict_proba(x_teste)[:,1]\n",
    "fpr, tpr, thresholds = metrics.roc_curve(y_teste,y_score,pos_label=2)\n",
    "print(\"AUC KNN: \",metrics.auc(fpr,tpr))"
   ]
  },
  {
   "cell_type": "code",
   "execution_count": 97,
   "id": "d1255d27",
   "metadata": {},
   "outputs": [
    {
     "name": "stdout",
     "output_type": "stream",
     "text": [
      "              precision    recall  f1-score   support\n",
      "\n",
      "           1       0.83      0.75      0.79        20\n",
      "           2       0.38      0.50      0.43        12\n",
      "           3       0.50      0.44      0.47        18\n",
      "\n",
      "    accuracy                           0.58        50\n",
      "   macro avg       0.57      0.56      0.56        50\n",
      "weighted avg       0.60      0.58      0.59        50\n",
      "\n"
     ]
    }
   ],
   "source": [
    "print(classification_report(y_teste,opiniao))"
   ]
  },
  {
   "cell_type": "code",
   "execution_count": 98,
   "id": "08ae28c4",
   "metadata": {},
   "outputs": [
    {
     "data": {
      "image/png": "[encoded data removed]",
      "text/plain": [
       "<Figure size 800x600 with 1 Axes>"
      ]
     },
     "metadata": {},
     "output_type": "display_data"
    }
   ],
   "source": [
    "cm = confusion_matrix(y_teste, opiniao)\n",
    "\n",
    "# Plotar o heatmap\n",
    "plt.figure(figsize=(8, 6))\n",
    "sns.heatmap(cm, annot=True, fmt=\"d\", cmap=\"Blues\", cbar=False)\n",
    "plt.xlabel(\"Valores Preditos\")\n",
    "plt.ylabel(\"Valores Reais\")\n",
    "plt.title(\"Matriz de Confusão\")\n",
    "plt.show()"
   ]
  },
  {
   "cell_type": "markdown",
   "id": "c4ea62f5",
   "metadata": {},
   "source": [
    "# Arvore de decisão "
   ]
  },
  {
   "cell_type": "code",
   "execution_count": 114,
   "id": "a067465e",
   "metadata": {},
   "outputs": [
    {
     "name": "stdout",
     "output_type": "stream",
     "text": [
      "criterion:  gini Acc:  0.54 md 5 nms 3\n",
      "criterion:  gini Acc:  0.54 md 5 nms 4\n",
      "criterion:  gini Acc:  0.54 md 5 nms 5\n",
      "criterion:  gini Acc:  0.54 md 5 nms 6\n",
      "criterion:  gini Acc:  0.52 md 5 nms 7\n",
      "criterion:  gini Acc:  0.48 md 6 nms 3\n",
      "criterion:  gini Acc:  0.52 md 6 nms 4\n",
      "criterion:  gini Acc:  0.52 md 6 nms 5\n",
      "criterion:  gini Acc:  0.48 md 6 nms 6\n",
      "criterion:  gini Acc:  0.5 md 6 nms 7\n",
      "criterion:  gini Acc:  0.48 md 7 nms 3\n",
      "criterion:  gini Acc:  0.5 md 7 nms 4\n",
      "criterion:  gini Acc:  0.52 md 7 nms 5\n",
      "criterion:  gini Acc:  0.52 md 7 nms 6\n",
      "criterion:  gini Acc:  0.5 md 7 nms 7\n",
      "criterion:  gini Acc:  0.52 md 8 nms 3\n",
      "criterion:  gini Acc:  0.52 md 8 nms 4\n",
      "criterion:  gini Acc:  0.52 md 8 nms 5\n",
      "criterion:  gini Acc:  0.52 md 8 nms 6\n",
      "criterion:  gini Acc:  0.5 md 8 nms 7\n",
      "criterion:  gini Acc:  0.46 md 9 nms 3\n",
      "criterion:  gini Acc:  0.44 md 9 nms 4\n",
      "criterion:  gini Acc:  0.48 md 9 nms 5\n",
      "criterion:  gini Acc:  0.5 md 9 nms 6\n",
      "criterion:  gini Acc:  0.5 md 9 nms 7\n",
      "criterion:  gini Acc:  0.5 md 10 nms 3\n",
      "criterion:  gini Acc:  0.46 md 10 nms 4\n",
      "criterion:  gini Acc:  0.48 md 10 nms 5\n",
      "criterion:  gini Acc:  0.52 md 10 nms 6\n",
      "criterion:  gini Acc:  0.5 md 10 nms 7\n",
      "criterion:  entropy Acc:  0.6 md 5 nms 3\n",
      "criterion:  entropy Acc:  0.58 md 5 nms 4\n",
      "criterion:  entropy Acc:  0.62 md 5 nms 5\n",
      "criterion:  entropy Acc:  0.62 md 5 nms 6\n",
      "criterion:  entropy Acc:  0.6 md 5 nms 7\n",
      "criterion:  entropy Acc:  0.62 md 6 nms 3\n",
      "criterion:  entropy Acc:  0.56 md 6 nms 4\n",
      "criterion:  entropy Acc:  0.58 md 6 nms 5\n",
      "criterion:  entropy Acc:  0.6 md 6 nms 6\n",
      "criterion:  entropy Acc:  0.6 md 6 nms 7\n",
      "criterion:  entropy Acc:  0.56 md 7 nms 3\n",
      "criterion:  entropy Acc:  0.6 md 7 nms 4\n",
      "criterion:  entropy Acc:  0.6 md 7 nms 5\n",
      "criterion:  entropy Acc:  0.58 md 7 nms 6\n",
      "criterion:  entropy Acc:  0.6 md 7 nms 7\n",
      "criterion:  entropy Acc:  0.58 md 8 nms 3\n",
      "criterion:  entropy Acc:  0.58 md 8 nms 4\n",
      "criterion:  entropy Acc:  0.58 md 8 nms 5\n",
      "criterion:  entropy Acc:  0.56 md 8 nms 6\n",
      "criterion:  entropy Acc:  0.58 md 8 nms 7\n",
      "criterion:  entropy Acc:  0.64 md 9 nms 3\n",
      "criterion:  entropy Acc:  0.58 md 9 nms 4\n",
      "criterion:  entropy Acc:  0.56 md 9 nms 5\n",
      "criterion:  entropy Acc:  0.62 md 9 nms 6\n",
      "criterion:  entropy Acc:  0.6 md 9 nms 7\n",
      "criterion:  entropy Acc:  0.62 md 10 nms 3\n",
      "criterion:  entropy Acc:  0.58 md 10 nms 4\n",
      "criterion:  entropy Acc:  0.6 md 10 nms 5\n",
      "criterion:  entropy Acc:  0.56 md 10 nms 6\n",
      "criterion:  entropy Acc:  0.6 md 10 nms 7\n"
     ]
    }
   ],
   "source": [
    "from sklearn import tree ## quando mais for, mais aumenta a saida, pq é combinatoria\n",
    "for cri in ['gini', 'entropy']:\n",
    "  for md in range(5,11):\n",
    "    for nms in range(3,8):\n",
    "      DT = tree.DecisionTreeClassifier(criterion=cri, max_depth=md, min_samples_split=nms) ## max_depth é a profundidade max da arvore (poda) e criteiron o criterio de avaliacao\n",
    "      DT.fit(x_treino,y_treino) ## treinando o classificador\n",
    "      opiniao = DT.predict(x_validacao) ## colhendo a opiniao do classificador\n",
    "      print(\"criterion: \", cri, \"Acc: \",accuracy_score(y_validacao, opiniao), 'md', md,'nms', nms) # calc a acuracia"
   ]
  },
  {
   "cell_type": "markdown",
   "id": "5e271f66",
   "metadata": {},
   "source": [
    "Para arvore de decisão a melhor parametrização é 8 para md e 4 para mns."
   ]
  },
  {
   "cell_type": "code",
   "execution_count": 133,
   "id": "02a4113f",
   "metadata": {
    "scrolled": true
   },
   "outputs": [
    {
     "name": "stdout",
     "output_type": "stream",
     "text": [
      "criterion:  entropy Acc:  0.7\n"
     ]
    }
   ],
   "source": [
    "DT = tree.DecisionTreeClassifier(criterion='entropy', max_depth=8, min_samples_split=4) ## max_depth é a profundidade max da arvore (poda) e criteiron o criterio de avaliacao\n",
    "DT.fit(x_treino,y_treino) ## treinando o classificador\n",
    "opiniao = DT.predict(x_teste) ## colhendo a opiniao do classificador\n",
    "print(\"criterion: \", cri, \"Acc: \",accuracy_score(y_teste, opiniao)) # calc a acuracia"
   ]
  },
  {
   "cell_type": "code",
   "execution_count": 134,
   "id": "6e23bd62",
   "metadata": {
    "scrolled": true
   },
   "outputs": [
    {
     "name": "stdout",
     "output_type": "stream",
     "text": [
      "AUC DT:  0.6842105263157896\n"
     ]
    }
   ],
   "source": [
    "DT = tree.DecisionTreeClassifier()\n",
    "DT.fit(x_treino,y_treino)\n",
    "y_score = DT.predict_proba(x_teste)[:,1]\n",
    "fpr, tpr, thresholds = metrics.roc_curve(y_teste,y_score,pos_label=2)\n",
    "print(\"AUC DT: \",metrics.auc(fpr,tpr))"
   ]
  },
  {
   "cell_type": "code",
   "execution_count": 135,
   "id": "74dae573",
   "metadata": {},
   "outputs": [
    {
     "data": {
      "image/png": "[encoded data removed]",
      "text/plain": [
       "<Figure size 800x600 with 1 Axes>"
      ]
     },
     "metadata": {},
     "output_type": "display_data"
    }
   ],
   "source": [
    "cm = confusion_matrix(y_teste, opiniao)\n",
    "\n",
    "# Plotar o heatmap\n",
    "plt.figure(figsize=(8, 6))\n",
    "sns.heatmap(cm, annot=True, fmt=\"d\", cmap=\"Blues\", cbar=False)\n",
    "plt.xlabel(\"Valores Preditos\")\n",
    "plt.ylabel(\"Valores Reais\")\n",
    "plt.title(\"Matriz de Confusão\")\n",
    "plt.show()"
   ]
  },
  {
   "cell_type": "code",
   "execution_count": 136,
   "id": "e7fdd23a",
   "metadata": {
    "scrolled": true
   },
   "outputs": [
    {
     "name": "stdout",
     "output_type": "stream",
     "text": [
      "              precision    recall  f1-score   support\n",
      "\n",
      "           1       0.80      0.76      0.78        21\n",
      "           2       0.56      0.42      0.48        12\n",
      "           3       0.67      0.82      0.74        17\n",
      "\n",
      "    accuracy                           0.70        50\n",
      "   macro avg       0.67      0.67      0.66        50\n",
      "weighted avg       0.70      0.70      0.69        50\n",
      "\n"
     ]
    }
   ],
   "source": [
    "print(classification_report(y_teste,opiniao))"
   ]
  },
  {
   "cell_type": "code",
   "execution_count": 137,
   "id": "f754fad8",
   "metadata": {},
   "outputs": [
    {
     "name": "stdout",
     "output_type": "stream",
     "text": [
      "Importância das Features:\n",
      "             Feature  Importance\n",
      "7      exerciciopago    0.300569\n",
      "9       %pago/aberto    0.226871\n",
      "8    exercicioaberto    0.145925\n",
      "4             aberto    0.116378\n",
      "5               pago    0.075325\n",
      "0         inscritoDA    0.064490\n",
      "10  %quant.parcelado    0.049706\n",
      "1          parcelado    0.020735\n",
      "2      parceladopago    0.000000\n",
      "3              quant    0.000000\n",
      "6     qparceladopago    0.000000\n"
     ]
    }
   ],
   "source": [
    "feature_importances = DT.feature_importances_\n",
    "features = x_treino.columns if isinstance(x_treino, pd.DataFrame) else range(len(feature_importances))\n",
    "importances_df = pd.DataFrame({'Feature': features, 'Importance': feature_importances})\n",
    "importances_df = importances_df.sort_values(by=\"Importance\", ascending=False)\n",
    "\n",
    "print(\"Importância das Features:\")\n",
    "print(importances_df)"
   ]
  },
  {
   "cell_type": "code",
   "execution_count": 138,
   "id": "4fbe5f92",
   "metadata": {
    "scrolled": true
   },
   "outputs": [
    {
     "name": "stdout",
     "output_type": "stream",
     "text": [
      "|--- exerciciopago <= 833.96\n",
      "|   |--- %quant.parcelado <= 29.17\n",
      "|   |   |--- inscritoDA <= 594.31\n",
      "|   |   |   |--- %pago/aberto <= 1901.70\n",
      "|   |   |   |   |--- inscritoDA <= 415.47\n",
      "|   |   |   |   |   |--- aberto <= 101.21\n",
      "|   |   |   |   |   |   |--- %pago/aberto <= 34.10\n",
      "|   |   |   |   |   |   |   |--- exercicioaberto <= 25.00\n",
      "|   |   |   |   |   |   |   |   |--- parcelado <= 33.29\n",
      "|   |   |   |   |   |   |   |   |   |--- class: 3\n",
      "|   |   |   |   |   |   |   |   |--- parcelado >  33.29\n",
      "|   |   |   |   |   |   |   |   |   |--- class: 1\n",
      "|   |   |   |   |   |   |   |--- exercicioaberto >  25.00\n",
      "|   |   |   |   |   |   |   |   |--- class: 1\n",
      "|   |   |   |   |   |   |--- %pago/aberto >  34.10\n",
      "|   |   |   |   |   |   |   |--- class: 2\n",
      "|   |   |   |   |   |--- aberto >  101.21\n",
      "|   |   |   |   |   |   |--- class: 1\n",
      "|   |   |   |   |--- inscritoDA >  415.47\n",
      "|   |   |   |   |   |--- class: 3\n",
      "|   |   |   |--- %pago/aberto >  1901.70\n",
      "|   |   |   |   |--- class: 2\n",
      "|   |   |--- inscritoDA >  594.31\n",
      "|   |   |   |--- %pago/aberto <= 624.68\n",
      "|   |   |   |   |--- class: 1\n",
      "|   |   |   |--- %pago/aberto >  624.68\n",
      "|   |   |   |   |--- %pago/aberto <= 1032.37\n",
      "|   |   |   |   |   |--- class: 3\n",
      "|   |   |   |   |--- %pago/aberto >  1032.37\n",
      "|   |   |   |   |   |--- class: 1\n",
      "|   |--- %quant.parcelado >  29.17\n",
      "|   |   |--- class: 3\n",
      "|--- exerciciopago >  833.96\n",
      "|   |--- aberto <= 6144.43\n",
      "|   |   |--- exerciciopago <= 11825.88\n",
      "|   |   |   |--- %pago/aberto <= 28.69\n",
      "|   |   |   |   |--- pago <= 6026.96\n",
      "|   |   |   |   |   |--- pago <= 2168.92\n",
      "|   |   |   |   |   |   |--- class: 2\n",
      "|   |   |   |   |   |--- pago >  2168.92\n",
      "|   |   |   |   |   |   |--- class: 3\n",
      "|   |   |   |   |--- pago >  6026.96\n",
      "|   |   |   |   |   |--- exercicioaberto <= 805.92\n",
      "|   |   |   |   |   |   |--- pago <= 9163.95\n",
      "|   |   |   |   |   |   |   |--- class: 2\n",
      "|   |   |   |   |   |   |--- pago >  9163.95\n",
      "|   |   |   |   |   |   |   |--- exerciciopago <= 5915.11\n",
      "|   |   |   |   |   |   |   |   |--- class: 2\n",
      "|   |   |   |   |   |   |   |--- exerciciopago >  5915.11\n",
      "|   |   |   |   |   |   |   |   |--- exerciciopago <= 10728.78\n",
      "|   |   |   |   |   |   |   |   |   |--- class: 3\n",
      "|   |   |   |   |   |   |   |   |--- exerciciopago >  10728.78\n",
      "|   |   |   |   |   |   |   |   |   |--- class: 2\n",
      "|   |   |   |   |   |--- exercicioaberto >  805.92\n",
      "|   |   |   |   |   |   |--- class: 3\n",
      "|   |   |   |--- %pago/aberto >  28.69\n",
      "|   |   |   |   |--- %pago/aberto <= 45.00\n",
      "|   |   |   |   |   |--- %pago/aberto <= 29.98\n",
      "|   |   |   |   |   |   |--- class: 2\n",
      "|   |   |   |   |   |--- %pago/aberto >  29.98\n",
      "|   |   |   |   |   |   |--- class: 1\n",
      "|   |   |   |   |--- %pago/aberto >  45.00\n",
      "|   |   |   |   |   |--- %pago/aberto <= 144.21\n",
      "|   |   |   |   |   |   |--- exercicioaberto <= 1751.41\n",
      "|   |   |   |   |   |   |   |--- class: 2\n",
      "|   |   |   |   |   |   |--- exercicioaberto >  1751.41\n",
      "|   |   |   |   |   |   |   |--- class: 1\n",
      "|   |   |   |   |   |--- %pago/aberto >  144.21\n",
      "|   |   |   |   |   |   |--- class: 3\n",
      "|   |   |--- exerciciopago >  11825.88\n",
      "|   |   |   |--- %pago/aberto <= 1.40\n",
      "|   |   |   |   |--- class: 2\n",
      "|   |   |   |--- %pago/aberto >  1.40\n",
      "|   |   |   |   |--- exercicioaberto <= 3289.54\n",
      "|   |   |   |   |   |--- class: 3\n",
      "|   |   |   |   |--- exercicioaberto >  3289.54\n",
      "|   |   |   |   |   |--- class: 2\n",
      "|   |--- aberto >  6144.43\n",
      "|   |   |--- exercicioaberto <= 7157.04\n",
      "|   |   |   |--- %quant.parcelado <= 51.43\n",
      "|   |   |   |   |--- class: 1\n",
      "|   |   |   |--- %quant.parcelado >  51.43\n",
      "|   |   |   |   |--- class: 3\n",
      "|   |   |--- exercicioaberto >  7157.04\n",
      "|   |   |   |--- inscritoDA <= 59890.35\n",
      "|   |   |   |   |--- class: 3\n",
      "|   |   |   |--- inscritoDA >  59890.35\n",
      "|   |   |   |   |--- class: 1\n",
      "\n"
     ]
    }
   ],
   "source": [
    "from sklearn.tree import export_text\n",
    "\n",
    "tree_rules = export_text(DT, feature_names=list(features))\n",
    "print(tree_rules)"
   ]
  },
  {
   "cell_type": "markdown",
   "id": "7b61b803",
   "metadata": {},
   "source": [
    "# Random Forest"
   ]
  },
  {
   "cell_type": "code",
   "execution_count": 141,
   "id": "f02bb5a6",
   "metadata": {},
   "outputs": [
    {
     "name": "stdout",
     "output_type": "stream",
     "text": [
      "criterion:  gini Acc:  0.58 md 5 nms 3 ne 50\n",
      "criterion:  gini Acc:  0.56 md 5 nms 3 ne 100\n",
      "criterion:  gini Acc:  0.54 md 5 nms 3 ne 150\n",
      "criterion:  gini Acc:  0.56 md 5 nms 3 ne 200\n",
      "criterion:  gini Acc:  0.5 md 5 nms 4 ne 50\n",
      "criterion:  gini Acc:  0.56 md 5 nms 4 ne 100\n",
      "criterion:  gini Acc:  0.56 md 5 nms 4 ne 150\n",
      "criterion:  gini Acc:  0.58 md 5 nms 4 ne 200\n",
      "criterion:  gini Acc:  0.54 md 5 nms 5 ne 50\n",
      "criterion:  gini Acc:  0.56 md 5 nms 5 ne 100\n",
      "criterion:  gini Acc:  0.56 md 5 nms 5 ne 150\n",
      "criterion:  gini Acc:  0.58 md 5 nms 5 ne 200\n",
      "criterion:  gini Acc:  0.54 md 5 nms 6 ne 50\n",
      "criterion:  gini Acc:  0.56 md 5 nms 6 ne 100\n",
      "criterion:  gini Acc:  0.52 md 5 nms 6 ne 150\n",
      "criterion:  gini Acc:  0.54 md 5 nms 6 ne 200\n",
      "criterion:  gini Acc:  0.52 md 5 nms 7 ne 50\n",
      "criterion:  gini Acc:  0.52 md 5 nms 7 ne 100\n",
      "criterion:  gini Acc:  0.56 md 5 nms 7 ne 150\n",
      "criterion:  gini Acc:  0.52 md 5 nms 7 ne 200\n",
      "criterion:  gini Acc:  0.54 md 6 nms 3 ne 50\n",
      "criterion:  gini Acc:  0.54 md 6 nms 3 ne 100\n",
      "criterion:  gini Acc:  0.58 md 6 nms 3 ne 150\n",
      "criterion:  gini Acc:  0.56 md 6 nms 3 ne 200\n",
      "criterion:  gini Acc:  0.6 md 6 nms 4 ne 50\n",
      "criterion:  gini Acc:  0.56 md 6 nms 4 ne 100\n",
      "criterion:  gini Acc:  0.58 md 6 nms 4 ne 150\n",
      "criterion:  gini Acc:  0.52 md 6 nms 4 ne 200\n",
      "criterion:  gini Acc:  0.54 md 6 nms 5 ne 50\n",
      "criterion:  gini Acc:  0.6 md 6 nms 5 ne 100\n",
      "criterion:  gini Acc:  0.56 md 6 nms 5 ne 150\n",
      "criterion:  gini Acc:  0.58 md 6 nms 5 ne 200\n",
      "criterion:  gini Acc:  0.56 md 6 nms 6 ne 50\n",
      "criterion:  gini Acc:  0.54 md 6 nms 6 ne 100\n",
      "criterion:  gini Acc:  0.56 md 6 nms 6 ne 150\n",
      "criterion:  gini Acc:  0.56 md 6 nms 6 ne 200\n",
      "criterion:  gini Acc:  0.52 md 6 nms 7 ne 50\n",
      "criterion:  gini Acc:  0.58 md 6 nms 7 ne 100\n",
      "criterion:  gini Acc:  0.54 md 6 nms 7 ne 150\n",
      "criterion:  gini Acc:  0.58 md 6 nms 7 ne 200\n",
      "criterion:  gini Acc:  0.5 md 7 nms 3 ne 50\n",
      "criterion:  gini Acc:  0.58 md 7 nms 3 ne 100\n",
      "criterion:  gini Acc:  0.58 md 7 nms 3 ne 150\n",
      "criterion:  gini Acc:  0.56 md 7 nms 3 ne 200\n",
      "criterion:  gini Acc:  0.54 md 7 nms 4 ne 50\n",
      "criterion:  gini Acc:  0.58 md 7 nms 4 ne 100\n",
      "criterion:  gini Acc:  0.58 md 7 nms 4 ne 150\n",
      "criterion:  gini Acc:  0.56 md 7 nms 4 ne 200\n",
      "criterion:  gini Acc:  0.58 md 7 nms 5 ne 50\n",
      "criterion:  gini Acc:  0.56 md 7 nms 5 ne 100\n",
      "criterion:  gini Acc:  0.58 md 7 nms 5 ne 150\n",
      "criterion:  gini Acc:  0.6 md 7 nms 5 ne 200\n",
      "criterion:  gini Acc:  0.6 md 7 nms 6 ne 50\n",
      "criterion:  gini Acc:  0.52 md 7 nms 6 ne 100\n",
      "criterion:  gini Acc:  0.58 md 7 nms 6 ne 150\n",
      "criterion:  gini Acc:  0.58 md 7 nms 6 ne 200\n",
      "criterion:  gini Acc:  0.62 md 7 nms 7 ne 50\n",
      "criterion:  gini Acc:  0.58 md 7 nms 7 ne 100\n",
      "criterion:  gini Acc:  0.5 md 7 nms 7 ne 150\n",
      "criterion:  gini Acc:  0.54 md 7 nms 7 ne 200\n",
      "criterion:  gini Acc:  0.54 md 8 nms 3 ne 50\n",
      "criterion:  gini Acc:  0.54 md 8 nms 3 ne 100\n",
      "criterion:  gini Acc:  0.6 md 8 nms 3 ne 150\n",
      "criterion:  gini Acc:  0.56 md 8 nms 3 ne 200\n",
      "criterion:  gini Acc:  0.62 md 8 nms 4 ne 50\n",
      "criterion:  gini Acc:  0.54 md 8 nms 4 ne 100\n",
      "criterion:  gini Acc:  0.6 md 8 nms 4 ne 150\n",
      "criterion:  gini Acc:  0.58 md 8 nms 4 ne 200\n",
      "criterion:  gini Acc:  0.54 md 8 nms 5 ne 50\n",
      "criterion:  gini Acc:  0.54 md 8 nms 5 ne 100\n",
      "criterion:  gini Acc:  0.58 md 8 nms 5 ne 150\n",
      "criterion:  gini Acc:  0.58 md 8 nms 5 ne 200\n",
      "criterion:  gini Acc:  0.56 md 8 nms 6 ne 50\n",
      "criterion:  gini Acc:  0.56 md 8 nms 6 ne 100\n",
      "criterion:  gini Acc:  0.56 md 8 nms 6 ne 150\n",
      "criterion:  gini Acc:  0.52 md 8 nms 6 ne 200\n",
      "criterion:  gini Acc:  0.56 md 8 nms 7 ne 50\n",
      "criterion:  gini Acc:  0.6 md 8 nms 7 ne 100\n",
      "criterion:  gini Acc:  0.58 md 8 nms 7 ne 150\n",
      "criterion:  gini Acc:  0.54 md 8 nms 7 ne 200\n",
      "criterion:  gini Acc:  0.58 md 9 nms 3 ne 50\n",
      "criterion:  gini Acc:  0.62 md 9 nms 3 ne 100\n",
      "criterion:  gini Acc:  0.54 md 9 nms 3 ne 150\n",
      "criterion:  gini Acc:  0.6 md 9 nms 3 ne 200\n",
      "criterion:  gini Acc:  0.64 md 9 nms 4 ne 50\n",
      "criterion:  gini Acc:  0.56 md 9 nms 4 ne 100\n",
      "criterion:  gini Acc:  0.6 md 9 nms 4 ne 150\n",
      "criterion:  gini Acc:  0.58 md 9 nms 4 ne 200\n",
      "criterion:  gini Acc:  0.6 md 9 nms 5 ne 50\n",
      "criterion:  gini Acc:  0.62 md 9 nms 5 ne 100\n",
      "criterion:  gini Acc:  0.56 md 9 nms 5 ne 150\n",
      "criterion:  gini Acc:  0.58 md 9 nms 5 ne 200\n",
      "criterion:  gini Acc:  0.52 md 9 nms 6 ne 50\n",
      "criterion:  gini Acc:  0.56 md 9 nms 6 ne 100\n",
      "criterion:  gini Acc:  0.58 md 9 nms 6 ne 150\n",
      "criterion:  gini Acc:  0.54 md 9 nms 6 ne 200\n",
      "criterion:  gini Acc:  0.52 md 9 nms 7 ne 50\n",
      "criterion:  gini Acc:  0.56 md 9 nms 7 ne 100\n",
      "criterion:  gini Acc:  0.54 md 9 nms 7 ne 150\n",
      "criterion:  gini Acc:  0.52 md 9 nms 7 ne 200\n",
      "criterion:  gini Acc:  0.58 md 10 nms 3 ne 50\n",
      "criterion:  gini Acc:  0.58 md 10 nms 3 ne 100\n",
      "criterion:  gini Acc:  0.58 md 10 nms 3 ne 150\n",
      "criterion:  gini Acc:  0.56 md 10 nms 3 ne 200\n",
      "criterion:  gini Acc:  0.56 md 10 nms 4 ne 50\n",
      "criterion:  gini Acc:  0.58 md 10 nms 4 ne 100\n",
      "criterion:  gini Acc:  0.58 md 10 nms 4 ne 150\n",
      "criterion:  gini Acc:  0.58 md 10 nms 4 ne 200\n",
      "criterion:  gini Acc:  0.56 md 10 nms 5 ne 50\n",
      "criterion:  gini Acc:  0.6 md 10 nms 5 ne 100\n",
      "criterion:  gini Acc:  0.54 md 10 nms 5 ne 150\n",
      "criterion:  gini Acc:  0.54 md 10 nms 5 ne 200\n",
      "criterion:  gini Acc:  0.58 md 10 nms 6 ne 50\n",
      "criterion:  gini Acc:  0.58 md 10 nms 6 ne 100\n",
      "criterion:  gini Acc:  0.54 md 10 nms 6 ne 150\n",
      "criterion:  gini Acc:  0.58 md 10 nms 6 ne 200\n",
      "criterion:  gini Acc:  0.56 md 10 nms 7 ne 50\n",
      "criterion:  gini Acc:  0.56 md 10 nms 7 ne 100\n",
      "criterion:  gini Acc:  0.54 md 10 nms 7 ne 150\n",
      "criterion:  gini Acc:  0.56 md 10 nms 7 ne 200\n",
      "criterion:  entropy Acc:  0.56 md 5 nms 3 ne 50\n",
      "criterion:  entropy Acc:  0.58 md 5 nms 3 ne 100\n",
      "criterion:  entropy Acc:  0.54 md 5 nms 3 ne 150\n",
      "criterion:  entropy Acc:  0.56 md 5 nms 3 ne 200\n",
      "criterion:  entropy Acc:  0.56 md 5 nms 4 ne 50\n",
      "criterion:  entropy Acc:  0.56 md 5 nms 4 ne 100\n",
      "criterion:  entropy Acc:  0.6 md 5 nms 4 ne 150\n",
      "criterion:  entropy Acc:  0.56 md 5 nms 4 ne 200\n",
      "criterion:  entropy Acc:  0.54 md 5 nms 5 ne 50\n",
      "criterion:  entropy Acc:  0.56 md 5 nms 5 ne 100\n",
      "criterion:  entropy Acc:  0.64 md 5 nms 5 ne 150\n",
      "criterion:  entropy Acc:  0.6 md 5 nms 5 ne 200\n",
      "criterion:  entropy Acc:  0.58 md 5 nms 6 ne 50\n",
      "criterion:  entropy Acc:  0.54 md 5 nms 6 ne 100\n",
      "criterion:  entropy Acc:  0.54 md 5 nms 6 ne 150\n",
      "criterion:  entropy Acc:  0.6 md 5 nms 6 ne 200\n",
      "criterion:  entropy Acc:  0.54 md 5 nms 7 ne 50\n",
      "criterion:  entropy Acc:  0.54 md 5 nms 7 ne 100\n",
      "criterion:  entropy Acc:  0.56 md 5 nms 7 ne 150\n",
      "criterion:  entropy Acc:  0.58 md 5 nms 7 ne 200\n",
      "criterion:  entropy Acc:  0.56 md 6 nms 3 ne 50\n",
      "criterion:  entropy Acc:  0.58 md 6 nms 3 ne 100\n",
      "criterion:  entropy Acc:  0.54 md 6 nms 3 ne 150\n",
      "criterion:  entropy Acc:  0.56 md 6 nms 3 ne 200\n",
      "criterion:  entropy Acc:  0.58 md 6 nms 4 ne 50\n",
      "criterion:  entropy Acc:  0.56 md 6 nms 4 ne 100\n",
      "criterion:  entropy Acc:  0.58 md 6 nms 4 ne 150\n",
      "criterion:  entropy Acc:  0.58 md 6 nms 4 ne 200\n",
      "criterion:  entropy Acc:  0.6 md 6 nms 5 ne 50\n",
      "criterion:  entropy Acc:  0.56 md 6 nms 5 ne 100\n",
      "criterion:  entropy Acc:  0.58 md 6 nms 5 ne 150\n",
      "criterion:  entropy Acc:  0.56 md 6 nms 5 ne 200\n",
      "criterion:  entropy Acc:  0.56 md 6 nms 6 ne 50\n",
      "criterion:  entropy Acc:  0.54 md 6 nms 6 ne 100\n",
      "criterion:  entropy Acc:  0.56 md 6 nms 6 ne 150\n",
      "criterion:  entropy Acc:  0.56 md 6 nms 6 ne 200\n",
      "criterion:  entropy Acc:  0.56 md 6 nms 7 ne 50\n",
      "criterion:  entropy Acc:  0.54 md 6 nms 7 ne 100\n",
      "criterion:  entropy Acc:  0.56 md 6 nms 7 ne 150\n",
      "criterion:  entropy Acc:  0.56 md 6 nms 7 ne 200\n",
      "criterion:  entropy Acc:  0.6 md 7 nms 3 ne 50\n",
      "criterion:  entropy Acc:  0.5 md 7 nms 3 ne 100\n",
      "criterion:  entropy Acc:  0.56 md 7 nms 3 ne 150\n",
      "criterion:  entropy Acc:  0.58 md 7 nms 3 ne 200\n",
      "criterion:  entropy Acc:  0.6 md 7 nms 4 ne 50\n",
      "criterion:  entropy Acc:  0.6 md 7 nms 4 ne 100\n",
      "criterion:  entropy Acc:  0.58 md 7 nms 4 ne 150\n",
      "criterion:  entropy Acc:  0.56 md 7 nms 4 ne 200\n",
      "criterion:  entropy Acc:  0.56 md 7 nms 5 ne 50\n",
      "criterion:  entropy Acc:  0.58 md 7 nms 5 ne 100\n",
      "criterion:  entropy Acc:  0.52 md 7 nms 5 ne 150\n",
      "criterion:  entropy Acc:  0.6 md 7 nms 5 ne 200\n",
      "criterion:  entropy Acc:  0.54 md 7 nms 6 ne 50\n",
      "criterion:  entropy Acc:  0.56 md 7 nms 6 ne 100\n",
      "criterion:  entropy Acc:  0.56 md 7 nms 6 ne 150\n",
      "criterion:  entropy Acc:  0.58 md 7 nms 6 ne 200\n",
      "criterion:  entropy Acc:  0.56 md 7 nms 7 ne 50\n"
     ]
    },
    {
     "name": "stdout",
     "output_type": "stream",
     "text": [
      "criterion:  entropy Acc:  0.56 md 7 nms 7 ne 100\n",
      "criterion:  entropy Acc:  0.54 md 7 nms 7 ne 150\n",
      "criterion:  entropy Acc:  0.54 md 7 nms 7 ne 200\n",
      "criterion:  entropy Acc:  0.58 md 8 nms 3 ne 50\n",
      "criterion:  entropy Acc:  0.56 md 8 nms 3 ne 100\n",
      "criterion:  entropy Acc:  0.56 md 8 nms 3 ne 150\n",
      "criterion:  entropy Acc:  0.6 md 8 nms 3 ne 200\n",
      "criterion:  entropy Acc:  0.62 md 8 nms 4 ne 50\n",
      "criterion:  entropy Acc:  0.6 md 8 nms 4 ne 100\n",
      "criterion:  entropy Acc:  0.56 md 8 nms 4 ne 150\n",
      "criterion:  entropy Acc:  0.58 md 8 nms 4 ne 200\n",
      "criterion:  entropy Acc:  0.56 md 8 nms 5 ne 50\n",
      "criterion:  entropy Acc:  0.62 md 8 nms 5 ne 100\n",
      "criterion:  entropy Acc:  0.5 md 8 nms 5 ne 150\n",
      "criterion:  entropy Acc:  0.56 md 8 nms 5 ne 200\n",
      "criterion:  entropy Acc:  0.64 md 8 nms 6 ne 50\n",
      "criterion:  entropy Acc:  0.56 md 8 nms 6 ne 100\n",
      "criterion:  entropy Acc:  0.54 md 8 nms 6 ne 150\n",
      "criterion:  entropy Acc:  0.62 md 8 nms 6 ne 200\n",
      "criterion:  entropy Acc:  0.56 md 8 nms 7 ne 50\n",
      "criterion:  entropy Acc:  0.56 md 8 nms 7 ne 100\n",
      "criterion:  entropy Acc:  0.58 md 8 nms 7 ne 150\n",
      "criterion:  entropy Acc:  0.58 md 8 nms 7 ne 200\n",
      "criterion:  entropy Acc:  0.58 md 9 nms 3 ne 50\n",
      "criterion:  entropy Acc:  0.56 md 9 nms 3 ne 100\n",
      "criterion:  entropy Acc:  0.58 md 9 nms 3 ne 150\n",
      "criterion:  entropy Acc:  0.56 md 9 nms 3 ne 200\n",
      "criterion:  entropy Acc:  0.62 md 9 nms 4 ne 50\n",
      "criterion:  entropy Acc:  0.6 md 9 nms 4 ne 100\n",
      "criterion:  entropy Acc:  0.54 md 9 nms 4 ne 150\n",
      "criterion:  entropy Acc:  0.58 md 9 nms 4 ne 200\n",
      "criterion:  entropy Acc:  0.56 md 9 nms 5 ne 50\n",
      "criterion:  entropy Acc:  0.56 md 9 nms 5 ne 100\n",
      "criterion:  entropy Acc:  0.62 md 9 nms 5 ne 150\n",
      "criterion:  entropy Acc:  0.58 md 9 nms 5 ne 200\n",
      "criterion:  entropy Acc:  0.58 md 9 nms 6 ne 50\n",
      "criterion:  entropy Acc:  0.56 md 9 nms 6 ne 100\n",
      "criterion:  entropy Acc:  0.62 md 9 nms 6 ne 150\n",
      "criterion:  entropy Acc:  0.58 md 9 nms 6 ne 200\n",
      "criterion:  entropy Acc:  0.54 md 9 nms 7 ne 50\n",
      "criterion:  entropy Acc:  0.54 md 9 nms 7 ne 100\n",
      "criterion:  entropy Acc:  0.54 md 9 nms 7 ne 150\n",
      "criterion:  entropy Acc:  0.58 md 9 nms 7 ne 200\n",
      "criterion:  entropy Acc:  0.54 md 10 nms 3 ne 50\n",
      "criterion:  entropy Acc:  0.58 md 10 nms 3 ne 100\n",
      "criterion:  entropy Acc:  0.58 md 10 nms 3 ne 150\n",
      "criterion:  entropy Acc:  0.58 md 10 nms 3 ne 200\n",
      "criterion:  entropy Acc:  0.56 md 10 nms 4 ne 50\n",
      "criterion:  entropy Acc:  0.54 md 10 nms 4 ne 100\n",
      "criterion:  entropy Acc:  0.58 md 10 nms 4 ne 150\n",
      "criterion:  entropy Acc:  0.64 md 10 nms 4 ne 200\n",
      "criterion:  entropy Acc:  0.58 md 10 nms 5 ne 50\n",
      "criterion:  entropy Acc:  0.6 md 10 nms 5 ne 100\n",
      "criterion:  entropy Acc:  0.62 md 10 nms 5 ne 150\n",
      "criterion:  entropy Acc:  0.58 md 10 nms 5 ne 200\n",
      "criterion:  entropy Acc:  0.58 md 10 nms 6 ne 50\n",
      "criterion:  entropy Acc:  0.54 md 10 nms 6 ne 100\n",
      "criterion:  entropy Acc:  0.56 md 10 nms 6 ne 150\n",
      "criterion:  entropy Acc:  0.56 md 10 nms 6 ne 200\n",
      "criterion:  entropy Acc:  0.56 md 10 nms 7 ne 50\n",
      "criterion:  entropy Acc:  0.54 md 10 nms 7 ne 100\n",
      "criterion:  entropy Acc:  0.6 md 10 nms 7 ne 150\n",
      "criterion:  entropy Acc:  0.56 md 10 nms 7 ne 200\n"
     ]
    }
   ],
   "source": [
    "from sklearn.ensemble import RandomForestClassifier\n",
    "for cri in ['gini', 'entropy']:\n",
    "  for md in range(5,11):\n",
    "    for nms in range(3,8):\n",
    "      for ne in (50, 100, 150, 200):\n",
    "        RF = RandomForestClassifier(criterion = cri, n_estimators=ne, max_depth=md,min_samples_split=nms)\n",
    "        RF.fit(x_treino,y_treino)\n",
    "        opiniao = RF.predict(x_validacao)\n",
    "        print(\"criterion: \", cri, \"Acc: \",accuracy_score(y_validacao, opiniao), 'md', md,'nms', nms, 'ne', ne) # calc a acuracia\n",
    "        # plot_roc_curve(fpr, tpr,\"yellow\",\"RF\")"
   ]
  },
  {
   "cell_type": "markdown",
   "id": "0a13836c",
   "metadata": {},
   "source": [
    "Pra random forest a maior acuracia foi obtida com md = 9, nms = 4 e ne = 50"
   ]
  },
  {
   "cell_type": "code",
   "execution_count": 160,
   "id": "154e32ac",
   "metadata": {},
   "outputs": [
    {
     "name": "stdout",
     "output_type": "stream",
     "text": [
      "criterion:  entropy Acc:  0.72\n",
      "0.10676288604736328\n"
     ]
    }
   ],
   "source": [
    "inicio = time.time()\n",
    "RF = RandomForestClassifier(criterion = 'gini', n_estimators=50, max_depth=8,min_samples_split=7)\n",
    "RF.fit(x_treino,y_treino)\n",
    "opiniao = RF.predict(x_teste)\n",
    "print(\"criterion: \", cri, \"Acc: \",accuracy_score(y_teste, opiniao)) # calc a acuracia\n",
    "\n",
    "fim = time.time()\n",
    "print(fim - inicio)"
   ]
  },
  {
   "cell_type": "code",
   "execution_count": 161,
   "id": "e6edc5c0",
   "metadata": {},
   "outputs": [
    {
     "name": "stdout",
     "output_type": "stream",
     "text": [
      "AUC RF:  0.7741228070175439\n"
     ]
    }
   ],
   "source": [
    "y_score = RF.predict_proba(x_teste)[:,1]\n",
    "fpr, tpr, thresholds = metrics.roc_curve(y_teste,y_score,pos_label=2)\n",
    "print(\"AUC RF: \",metrics.auc(fpr,tpr))"
   ]
  },
  {
   "cell_type": "code",
   "execution_count": 162,
   "id": "d4220163",
   "metadata": {
    "scrolled": true
   },
   "outputs": [
    {
     "name": "stdout",
     "output_type": "stream",
     "text": [
      "              precision    recall  f1-score   support\n",
      "\n",
      "           1       0.79      0.90      0.84        21\n",
      "           2       0.67      0.33      0.44        12\n",
      "           3       0.65      0.76      0.70        17\n",
      "\n",
      "    accuracy                           0.72        50\n",
      "   macro avg       0.70      0.67      0.66        50\n",
      "weighted avg       0.71      0.72      0.70        50\n",
      "\n"
     ]
    }
   ],
   "source": [
    "print(classification_report(y_teste,opiniao))"
   ]
  },
  {
   "cell_type": "code",
   "execution_count": 163,
   "id": "9937b435",
   "metadata": {},
   "outputs": [
    {
     "data": {
      "image/png": "[encoded data removed]",
      "text/plain": [
       "<Figure size 800x600 with 1 Axes>"
      ]
     },
     "metadata": {},
     "output_type": "display_data"
    }
   ],
   "source": [
    "cm = confusion_matrix(y_teste, opiniao)\n",
    "\n",
    "# Plotar o heatmap\n",
    "plt.figure(figsize=(8, 6))\n",
    "sns.heatmap(cm, annot=True, fmt=\"d\", cmap=\"Blues\", cbar=False)\n",
    "plt.xlabel(\"Valores Preditos\")\n",
    "plt.ylabel(\"Valores Reais\")\n",
    "plt.title(\"Matriz de Confusão\")\n",
    "plt.show()"
   ]
  },
  {
   "cell_type": "code",
   "execution_count": 164,
   "id": "cd841bb7",
   "metadata": {},
   "outputs": [
    {
     "name": "stdout",
     "output_type": "stream",
     "text": [
      "Importância das Features:\n",
      "             Feature  Importance\n",
      "7      exerciciopago    0.188979\n",
      "9       %pago/aberto    0.160959\n",
      "5               pago    0.160050\n",
      "0         inscritoDA    0.127894\n",
      "4             aberto    0.098506\n",
      "8    exercicioaberto    0.083703\n",
      "3              quant    0.055851\n",
      "1          parcelado    0.045622\n",
      "2      parceladopago    0.036713\n",
      "10  %quant.parcelado    0.027082\n",
      "6     qparceladopago    0.014641\n"
     ]
    }
   ],
   "source": [
    "# Importância das Features\n",
    "feature_importances = RF.feature_importances_\n",
    "features = x_treino.columns if isinstance(x_treino, pd.DataFrame) else range(len(feature_importances))\n",
    "importances_df = pd.DataFrame({'Feature': features, 'Importance': feature_importances})\n",
    "importances_df = importances_df.sort_values(by=\"Importance\", ascending=False)\n",
    "\n",
    "print(\"Importância das Features:\")\n",
    "print(importances_df)"
   ]
  },
  {
   "cell_type": "markdown",
   "id": "c4616043",
   "metadata": {},
   "source": [
    "Avaliação do melhor metodo"
   ]
  },
  {
   "cell_type": "markdown",
   "id": "f57b6840",
   "metadata": {},
   "source": [
    "Buscando uma melhor veracidade cada um dos classificadores foram geradas 10 vezes e foi utilizado esses 10 valores de acuracia e de AUC"
   ]
  },
  {
   "cell_type": "markdown",
   "id": "ad4f0ee7",
   "metadata": {},
   "source": [
    "acuracia"
   ]
  },
  {
   "cell_type": "code",
   "execution_count": 165,
   "id": "b5d4f4cc",
   "metadata": {},
   "outputs": [
    {
     "name": "stdout",
     "output_type": "stream",
     "text": [
      "KruskalResult(statistic=17.271984680102975, pvalue=0.00017759722721584305)\n"
     ]
    }
   ],
   "source": [
    "KNN = [0.56,0.44,0.5,0.54,0.54,0.56,0.6,0.52,0.5,0.58]\n",
    "RF = [6.64,0.72,0.72,0.7,0.7,0.68,0.68,0.7,0.72,0.72]\n",
    "AD = [0.7,0.66,0.72,0.72,0.72,0.7,0.72,0.68,0.7,0,64,0.7]\n",
    "\n",
    "from scipy import stats\n",
    "print(stats.kruskal(KNN, RF, AD))"
   ]
  },
  {
   "cell_type": "code",
   "execution_count": 167,
   "id": "3e758046",
   "metadata": {},
   "outputs": [
    {
     "name": "stdout",
     "output_type": "stream",
     "text": [
      "KNN vs RF:  MannwhitneyuResult(statistic=0.0, pvalue=1.082508822446903e-05)\n",
      "KNN vs AD:  MannwhitneyuResult(statistic=10.0, pvalue=0.0004299106466289129)\n",
      "AD vs RF:  MannwhitneyuResult(statistic=53.0, pvalue=0.674396810619721)\n"
     ]
    }
   ],
   "source": [
    "from scipy.stats import mannwhitneyu\n",
    "p = mannwhitneyu(KNN, RF, method=\"exact\",alternative=\"two-sided\")\n",
    "print(\"KNN vs RF: \",p)\n",
    "p = mannwhitneyu(KNN, AD, method=\"exact\",alternative=\"two-sided\")\n",
    "print(\"KNN vs AD: \",p)\n",
    "p = mannwhitneyu(AD, RF, method=\"exact\",alternative=\"two-sided\")\n",
    "print(\"AD vs RF: \",p)"
   ]
  },
  {
   "cell_type": "code",
   "execution_count": null,
   "id": "a34f8ca9",
   "metadata": {},
   "outputs": [],
   "source": [
    "AUC"
   ]
  },
  {
   "cell_type": "code",
   "execution_count": 168,
   "id": "2896aa8a",
   "metadata": {},
   "outputs": [
    {
     "name": "stdout",
     "output_type": "stream",
     "text": [
      "KruskalResult(statistic=18.549631284916217, pvalue=9.3755929936501e-05)\n"
     ]
    }
   ],
   "source": [
    "KNN = [0.55,0.52,0.61,0.66,0.63,0.68,0.68,0.5,0.4,0.7]\n",
    "RF = [0.71,0.72,0.74,0.79,0.75,0.78,0.75,0.73,0.77,0.77]\n",
    "AD = [0.63,0.66,0.74,0.66,0.64,0.66,0.64,0.73,0.62,0.68]\n",
    "\n",
    "from scipy import stats\n",
    "print(stats.kruskal(KNN, RF, AD))"
   ]
  },
  {
   "cell_type": "code",
   "execution_count": 169,
   "id": "94b9be71",
   "metadata": {},
   "outputs": [
    {
     "name": "stdout",
     "output_type": "stream",
     "text": [
      "KNN vs RF:  MannwhitneyuResult(statistic=0.0, pvalue=1.082508822446903e-05)\n",
      "KNN vs AD:  MannwhitneyuResult(statistic=30.0, pvalue=0.143140141592154)\n",
      "AD vs RF:  MannwhitneyuResult(statistic=6.0, pvalue=0.00032475264673407085)\n"
     ]
    }
   ],
   "source": [
    "\n",
    "p = mannwhitneyu(KNN, RF, method=\"exact\",alternative=\"two-sided\")\n",
    "print(\"KNN vs RF: \",p)\n",
    "p = mannwhitneyu(KNN, AD, method=\"exact\",alternative=\"two-sided\")\n",
    "print(\"KNN vs AD: \",p)\n",
    "p = mannwhitneyu(AD, RF, method=\"exact\",alternative=\"two-sided\")\n",
    "print(\"AD vs RF: \",p)"
   ]
  },
  {
   "cell_type": "markdown",
   "id": "02e725dd",
   "metadata": {},
   "source": [
    "# Comparando os classificadores"
   ]
  },
  {
   "cell_type": "markdown",
   "id": "5c04f154",
   "metadata": {},
   "source": [
    "Em termos de acurácia:\n",
    "\n",
    "Não há diferença estatisticamente significativa entre o uso da Árvore de Decisão e do Random Forest.\n",
    "\n",
    "No entanto, ao comparar esses dois modelos com o KNN, há uma diferença significativa, sendo que a Árvore de Decisão apresenta resultados ligeiramente melhores.\n",
    "\n",
    "Em termos de AUC:\n",
    "\n",
    "Não há diferença significativa entre a Árvore de Decisão e o KNN.\n",
    "\n",
    "Já entre a Árvore de Decisão e o Random Forest, há uma diferença significativa, com o Random Forest apresentando um desempenho superior.\n",
    "\n",
    "Esse resultado era esperado, uma vez que o Random Forest é uma evolução da Árvore de Decisão, combinando múltiplas árvores para melhorar a precisão e a robustez. No entanto, uma desvantagem do Random Forest é a falta de interpretabilidade, já que não é possível visualizar as regras utilizadas pelo modelo.\n",
    "\n",
    "Considerando que a diferença estatística no AUC é significativa apenas entre a Árvore de Decisão e o Random Forest, e que a Árvore de Decisão oferece a vantagem de ser interpretável, definimos que o modelo final a ser utilizado será a Árvore de Decisão, com os parâmetros max_depth (md) igual a 8 e min_samples_split (nmd) definido como 4."
   ]
  },
  {
   "cell_type": "code",
   "execution_count": 172,
   "id": "18dcb2f5",
   "metadata": {},
   "outputs": [
    {
     "name": "stdout",
     "output_type": "stream",
     "text": [
      "criterion:  entropy Acc:  0.7\n"
     ]
    }
   ],
   "source": [
    "DT = tree.DecisionTreeClassifier(criterion='entropy', max_depth=8, min_samples_split=4) ## max_depth é a profundidade max da arvore (poda) e criteiron o criterio de avaliacao\n",
    "DT.fit(x_treino,y_treino) ## treinando o classificador\n",
    "opiniao = DT.predict(x_teste) ## colhendo a opiniao do classificador\n",
    "print(\"criterion: \", cri, \"Acc: \",accuracy_score(y_teste, opiniao)) # calc a acuracia"
   ]
  },
  {
   "cell_type": "code",
   "execution_count": 173,
   "id": "b14f83e2",
   "metadata": {
    "scrolled": true
   },
   "outputs": [
    {
     "name": "stdout",
     "output_type": "stream",
     "text": [
      "AUC DT:  0.6557017543859649\n"
     ]
    }
   ],
   "source": [
    "DT = tree.DecisionTreeClassifier()\n",
    "DT.fit(x_treino,y_treino)\n",
    "y_score = DT.predict_proba(x_teste)[:,1]\n",
    "fpr, tpr, thresholds = metrics.roc_curve(y_teste,y_score,pos_label=2)\n",
    "print(\"AUC DT: \",metrics.auc(fpr,tpr))"
   ]
  },
  {
   "cell_type": "code",
   "execution_count": 174,
   "id": "d815f0da",
   "metadata": {
    "scrolled": false
   },
   "outputs": [
    {
     "data": {
      "image/png": "[encoded data removed]",
      "text/plain": [
       "<Figure size 800x600 with 1 Axes>"
      ]
     },
     "metadata": {},
     "output_type": "display_data"
    }
   ],
   "source": [
    "cm = confusion_matrix(y_teste, opiniao)\n",
    "\n",
    "# Plotar o heatmap\n",
    "plt.figure(figsize=(8, 6))\n",
    "sns.heatmap(cm, annot=True, fmt=\"d\", cmap=\"Blues\", cbar=False)\n",
    "plt.xlabel(\"Valores Preditos\")\n",
    "plt.ylabel(\"Valores Reais\")\n",
    "plt.title(\"Matriz de Confusão\")\n",
    "plt.show()"
   ]
  },
  {
   "cell_type": "code",
   "execution_count": 175,
   "id": "cb30b6be",
   "metadata": {
    "scrolled": false
   },
   "outputs": [
    {
     "name": "stdout",
     "output_type": "stream",
     "text": [
      "              precision    recall  f1-score   support\n",
      "\n",
      "           1       0.83      0.71      0.77        21\n",
      "           2       0.56      0.42      0.48        12\n",
      "           3       0.65      0.88      0.75        17\n",
      "\n",
      "    accuracy                           0.70        50\n",
      "   macro avg       0.68      0.67      0.67        50\n",
      "weighted avg       0.71      0.70      0.69        50\n",
      "\n"
     ]
    }
   ],
   "source": [
    "print(classification_report(y_teste,opiniao))"
   ]
  },
  {
   "cell_type": "code",
   "execution_count": 176,
   "id": "b474fb0d",
   "metadata": {
    "scrolled": true
   },
   "outputs": [
    {
     "name": "stdout",
     "output_type": "stream",
     "text": [
      "Importância das Features:\n",
      "             Feature  Importance\n",
      "7      exerciciopago    0.300569\n",
      "9       %pago/aberto    0.229648\n",
      "4             aberto    0.116378\n",
      "8    exercicioaberto    0.114266\n",
      "0         inscritoDA    0.085225\n",
      "10  %quant.parcelado    0.078587\n",
      "5               pago    0.075325\n",
      "1          parcelado    0.000000\n",
      "2      parceladopago    0.000000\n",
      "3              quant    0.000000\n",
      "6     qparceladopago    0.000000\n"
     ]
    }
   ],
   "source": [
    "feature_importances = DT.feature_importances_\n",
    "features = x_treino.columns if isinstance(x_treino, pd.DataFrame) else range(len(feature_importances))\n",
    "importances_df = pd.DataFrame({'Feature': features, 'Importance': feature_importances})\n",
    "importances_df = importances_df.sort_values(by=\"Importance\", ascending=False)\n",
    "\n",
    "print(\"Importância das Features:\")\n",
    "print(importances_df)"
   ]
  },
  {
   "cell_type": "code",
   "execution_count": 177,
   "id": "d5cb4d98",
   "metadata": {
    "scrolled": false
   },
   "outputs": [
    {
     "name": "stdout",
     "output_type": "stream",
     "text": [
      "|--- exerciciopago <= 833.96\n",
      "|   |--- %quant.parcelado <= 29.17\n",
      "|   |   |--- inscritoDA <= 594.31\n",
      "|   |   |   |--- %pago/aberto <= 1901.70\n",
      "|   |   |   |   |--- inscritoDA <= 415.47\n",
      "|   |   |   |   |   |--- aberto <= 101.21\n",
      "|   |   |   |   |   |   |--- %pago/aberto <= 34.10\n",
      "|   |   |   |   |   |   |   |--- exercicioaberto <= 25.00\n",
      "|   |   |   |   |   |   |   |   |--- inscritoDA <= 199.51\n",
      "|   |   |   |   |   |   |   |   |   |--- class: 3\n",
      "|   |   |   |   |   |   |   |   |--- inscritoDA >  199.51\n",
      "|   |   |   |   |   |   |   |   |   |--- class: 1\n",
      "|   |   |   |   |   |   |   |--- exercicioaberto >  25.00\n",
      "|   |   |   |   |   |   |   |   |--- class: 1\n",
      "|   |   |   |   |   |   |--- %pago/aberto >  34.10\n",
      "|   |   |   |   |   |   |   |--- class: 2\n",
      "|   |   |   |   |   |--- aberto >  101.21\n",
      "|   |   |   |   |   |   |--- class: 1\n",
      "|   |   |   |   |--- inscritoDA >  415.47\n",
      "|   |   |   |   |   |--- class: 3\n",
      "|   |   |   |--- %pago/aberto >  1901.70\n",
      "|   |   |   |   |--- class: 2\n",
      "|   |   |--- inscritoDA >  594.31\n",
      "|   |   |   |--- %pago/aberto <= 624.68\n",
      "|   |   |   |   |--- class: 1\n",
      "|   |   |   |--- %pago/aberto >  624.68\n",
      "|   |   |   |   |--- %pago/aberto <= 1032.37\n",
      "|   |   |   |   |   |--- class: 3\n",
      "|   |   |   |   |--- %pago/aberto >  1032.37\n",
      "|   |   |   |   |   |--- class: 1\n",
      "|   |--- %quant.parcelado >  29.17\n",
      "|   |   |--- class: 3\n",
      "|--- exerciciopago >  833.96\n",
      "|   |--- aberto <= 6144.43\n",
      "|   |   |--- exerciciopago <= 11825.88\n",
      "|   |   |   |--- %pago/aberto <= 28.69\n",
      "|   |   |   |   |--- pago <= 6026.96\n",
      "|   |   |   |   |   |--- pago <= 2168.92\n",
      "|   |   |   |   |   |   |--- class: 2\n",
      "|   |   |   |   |   |--- pago >  2168.92\n",
      "|   |   |   |   |   |   |--- class: 3\n",
      "|   |   |   |   |--- pago >  6026.96\n",
      "|   |   |   |   |   |--- exercicioaberto <= 805.92\n",
      "|   |   |   |   |   |   |--- pago <= 9163.95\n",
      "|   |   |   |   |   |   |   |--- class: 2\n",
      "|   |   |   |   |   |   |--- pago >  9163.95\n",
      "|   |   |   |   |   |   |   |--- exerciciopago <= 5915.11\n",
      "|   |   |   |   |   |   |   |   |--- class: 2\n",
      "|   |   |   |   |   |   |   |--- exerciciopago >  5915.11\n",
      "|   |   |   |   |   |   |   |   |--- exerciciopago <= 10728.78\n",
      "|   |   |   |   |   |   |   |   |   |--- class: 3\n",
      "|   |   |   |   |   |   |   |   |--- exerciciopago >  10728.78\n",
      "|   |   |   |   |   |   |   |   |   |--- class: 2\n",
      "|   |   |   |   |   |--- exercicioaberto >  805.92\n",
      "|   |   |   |   |   |   |--- class: 3\n",
      "|   |   |   |--- %pago/aberto >  28.69\n",
      "|   |   |   |   |--- %pago/aberto <= 45.00\n",
      "|   |   |   |   |   |--- %pago/aberto <= 29.98\n",
      "|   |   |   |   |   |   |--- class: 2\n",
      "|   |   |   |   |   |--- %pago/aberto >  29.98\n",
      "|   |   |   |   |   |   |--- class: 1\n",
      "|   |   |   |   |--- %pago/aberto >  45.00\n",
      "|   |   |   |   |   |--- exercicioaberto <= 1751.41\n",
      "|   |   |   |   |   |   |--- %pago/aberto <= 144.21\n",
      "|   |   |   |   |   |   |   |--- class: 2\n",
      "|   |   |   |   |   |   |--- %pago/aberto >  144.21\n",
      "|   |   |   |   |   |   |   |--- class: 3\n",
      "|   |   |   |   |   |--- exercicioaberto >  1751.41\n",
      "|   |   |   |   |   |   |--- class: 1\n",
      "|   |   |--- exerciciopago >  11825.88\n",
      "|   |   |   |--- %pago/aberto <= 1.40\n",
      "|   |   |   |   |--- class: 2\n",
      "|   |   |   |--- %pago/aberto >  1.40\n",
      "|   |   |   |   |--- %quant.parcelado <= 29.17\n",
      "|   |   |   |   |   |--- class: 3\n",
      "|   |   |   |   |--- %quant.parcelado >  29.17\n",
      "|   |   |   |   |   |--- class: 2\n",
      "|   |--- aberto >  6144.43\n",
      "|   |   |--- exercicioaberto <= 7157.04\n",
      "|   |   |   |--- %quant.parcelado <= 51.43\n",
      "|   |   |   |   |--- class: 1\n",
      "|   |   |   |--- %quant.parcelado >  51.43\n",
      "|   |   |   |   |--- class: 3\n",
      "|   |   |--- exercicioaberto >  7157.04\n",
      "|   |   |   |--- inscritoDA <= 59890.35\n",
      "|   |   |   |   |--- class: 3\n",
      "|   |   |   |--- inscritoDA >  59890.35\n",
      "|   |   |   |   |--- class: 1\n",
      "\n"
     ]
    }
   ],
   "source": [
    "from sklearn.tree import export_text\n",
    "\n",
    "tree_rules = export_text(DT, feature_names=list(features))\n",
    "print(tree_rules)"
   ]
  },
  {
   "cell_type": "markdown",
   "id": "5e56347c",
   "metadata": {},
   "source": [
    "Aplicando o modelo"
   ]
  },
  {
   "cell_type": "code",
   "execution_count": 178,
   "id": "c8d60c95",
   "metadata": {},
   "outputs": [
    {
     "data": {
      "text/html": [
       "<div>\n",
       "<style scoped>\n",
       "    .dataframe tbody tr th:only-of-type {\n",
       "        vertical-align: middle;\n",
       "    }\n",
       "\n",
       "    .dataframe tbody tr th {\n",
       "        vertical-align: top;\n",
       "    }\n",
       "\n",
       "    .dataframe thead th {\n",
       "        text-align: right;\n",
       "    }\n",
       "</style>\n",
       "<table border=\"1\" class=\"dataframe\">\n",
       "  <thead>\n",
       "    <tr style=\"text-align: right;\">\n",
       "      <th></th>\n",
       "      <th>unicodigo</th>\n",
       "      <th>inscritoDA</th>\n",
       "      <th>parcelado</th>\n",
       "      <th>parceladopago</th>\n",
       "      <th>quant</th>\n",
       "      <th>aberto</th>\n",
       "      <th>pago</th>\n",
       "      <th>qparceladopago</th>\n",
       "      <th>exerciciopago</th>\n",
       "      <th>exercicioaberto</th>\n",
       "      <th>%pago/aberto</th>\n",
       "      <th>%quant.parcelado</th>\n",
       "    </tr>\n",
       "  </thead>\n",
       "  <tbody>\n",
       "    <tr>\n",
       "      <th>0</th>\n",
       "      <td>1.0</td>\n",
       "      <td>1.086714e+07</td>\n",
       "      <td>162378.73</td>\n",
       "      <td>488232.49</td>\n",
       "      <td>153.0</td>\n",
       "      <td>5174108.01</td>\n",
       "      <td>2.415377e+07</td>\n",
       "      <td>29.0</td>\n",
       "      <td>2.371430e+07</td>\n",
       "      <td>4783819.24</td>\n",
       "      <td>21.421534</td>\n",
       "      <td>18.954248</td>\n",
       "    </tr>\n",
       "    <tr>\n",
       "      <th>1</th>\n",
       "      <td>2.0</td>\n",
       "      <td>0.000000e+00</td>\n",
       "      <td>0.00</td>\n",
       "      <td>0.00</td>\n",
       "      <td>0.0</td>\n",
       "      <td>0.00</td>\n",
       "      <td>1.719990e+03</td>\n",
       "      <td>0.0</td>\n",
       "      <td>1.719990e+03</td>\n",
       "      <td>0.00</td>\n",
       "      <td>0.000000</td>\n",
       "      <td>0.000000</td>\n",
       "    </tr>\n",
       "    <tr>\n",
       "      <th>2</th>\n",
       "      <td>3.0</td>\n",
       "      <td>0.000000e+00</td>\n",
       "      <td>0.00</td>\n",
       "      <td>0.00</td>\n",
       "      <td>0.0</td>\n",
       "      <td>0.00</td>\n",
       "      <td>1.454130e+03</td>\n",
       "      <td>0.0</td>\n",
       "      <td>1.454130e+03</td>\n",
       "      <td>0.00</td>\n",
       "      <td>0.000000</td>\n",
       "      <td>0.000000</td>\n",
       "    </tr>\n",
       "    <tr>\n",
       "      <th>3</th>\n",
       "      <td>4.0</td>\n",
       "      <td>8.992150e+03</td>\n",
       "      <td>3449.38</td>\n",
       "      <td>20401.20</td>\n",
       "      <td>3.0</td>\n",
       "      <td>6448.75</td>\n",
       "      <td>4.195685e+04</td>\n",
       "      <td>0.0</td>\n",
       "      <td>3.299939e+04</td>\n",
       "      <td>3940.08</td>\n",
       "      <td>15.369959</td>\n",
       "      <td>0.000000</td>\n",
       "    </tr>\n",
       "    <tr>\n",
       "      <th>4</th>\n",
       "      <td>5.0</td>\n",
       "      <td>5.643570e+03</td>\n",
       "      <td>3659.04</td>\n",
       "      <td>5974.74</td>\n",
       "      <td>3.0</td>\n",
       "      <td>7973.63</td>\n",
       "      <td>2.998170e+03</td>\n",
       "      <td>1.0</td>\n",
       "      <td>1.085580e+03</td>\n",
       "      <td>1077.93</td>\n",
       "      <td>265.949896</td>\n",
       "      <td>33.333333</td>\n",
       "    </tr>\n",
       "    <tr>\n",
       "      <th>...</th>\n",
       "      <td>...</td>\n",
       "      <td>...</td>\n",
       "      <td>...</td>\n",
       "      <td>...</td>\n",
       "      <td>...</td>\n",
       "      <td>...</td>\n",
       "      <td>...</td>\n",
       "      <td>...</td>\n",
       "      <td>...</td>\n",
       "      <td>...</td>\n",
       "      <td>...</td>\n",
       "      <td>...</td>\n",
       "    </tr>\n",
       "    <tr>\n",
       "      <th>257042</th>\n",
       "      <td>257043.0</td>\n",
       "      <td>0.000000e+00</td>\n",
       "      <td>0.00</td>\n",
       "      <td>0.00</td>\n",
       "      <td>0.0</td>\n",
       "      <td>358.81</td>\n",
       "      <td>6.100000e+03</td>\n",
       "      <td>0.0</td>\n",
       "      <td>6.100000e+03</td>\n",
       "      <td>358.81</td>\n",
       "      <td>5.882131</td>\n",
       "      <td>0.000000</td>\n",
       "    </tr>\n",
       "    <tr>\n",
       "      <th>257043</th>\n",
       "      <td>257044.0</td>\n",
       "      <td>0.000000e+00</td>\n",
       "      <td>0.00</td>\n",
       "      <td>0.00</td>\n",
       "      <td>0.0</td>\n",
       "      <td>290.85</td>\n",
       "      <td>3.127100e+02</td>\n",
       "      <td>0.0</td>\n",
       "      <td>3.127100e+02</td>\n",
       "      <td>290.85</td>\n",
       "      <td>93.009498</td>\n",
       "      <td>0.000000</td>\n",
       "    </tr>\n",
       "    <tr>\n",
       "      <th>257044</th>\n",
       "      <td>257045.0</td>\n",
       "      <td>0.000000e+00</td>\n",
       "      <td>0.00</td>\n",
       "      <td>0.00</td>\n",
       "      <td>0.0</td>\n",
       "      <td>0.00</td>\n",
       "      <td>1.400000e+02</td>\n",
       "      <td>0.0</td>\n",
       "      <td>1.400000e+02</td>\n",
       "      <td>0.00</td>\n",
       "      <td>0.000000</td>\n",
       "      <td>0.000000</td>\n",
       "    </tr>\n",
       "    <tr>\n",
       "      <th>257045</th>\n",
       "      <td>257046.0</td>\n",
       "      <td>0.000000e+00</td>\n",
       "      <td>0.00</td>\n",
       "      <td>0.00</td>\n",
       "      <td>0.0</td>\n",
       "      <td>0.00</td>\n",
       "      <td>5.000000e+01</td>\n",
       "      <td>0.0</td>\n",
       "      <td>5.000000e+01</td>\n",
       "      <td>0.00</td>\n",
       "      <td>0.000000</td>\n",
       "      <td>0.000000</td>\n",
       "    </tr>\n",
       "    <tr>\n",
       "      <th>257046</th>\n",
       "      <td>0.0</td>\n",
       "      <td>0.000000e+00</td>\n",
       "      <td>0.00</td>\n",
       "      <td>0.00</td>\n",
       "      <td>0.0</td>\n",
       "      <td>0.00</td>\n",
       "      <td>0.000000e+00</td>\n",
       "      <td>0.0</td>\n",
       "      <td>0.000000e+00</td>\n",
       "      <td>0.00</td>\n",
       "      <td>0.000000</td>\n",
       "      <td>0.000000</td>\n",
       "    </tr>\n",
       "  </tbody>\n",
       "</table>\n",
       "<p>257047 rows × 12 columns</p>\n",
       "</div>"
      ],
      "text/plain": [
       "        unicodigo    inscritoDA  parcelado  parceladopago  quant      aberto  \\\n",
       "0             1.0  1.086714e+07  162378.73      488232.49  153.0  5174108.01   \n",
       "1             2.0  0.000000e+00       0.00           0.00    0.0        0.00   \n",
       "2             3.0  0.000000e+00       0.00           0.00    0.0        0.00   \n",
       "3             4.0  8.992150e+03    3449.38       20401.20    3.0     6448.75   \n",
       "4             5.0  5.643570e+03    3659.04        5974.74    3.0     7973.63   \n",
       "...           ...           ...        ...            ...    ...         ...   \n",
       "257042   257043.0  0.000000e+00       0.00           0.00    0.0      358.81   \n",
       "257043   257044.0  0.000000e+00       0.00           0.00    0.0      290.85   \n",
       "257044   257045.0  0.000000e+00       0.00           0.00    0.0        0.00   \n",
       "257045   257046.0  0.000000e+00       0.00           0.00    0.0        0.00   \n",
       "257046        0.0  0.000000e+00       0.00           0.00    0.0        0.00   \n",
       "\n",
       "                pago  qparceladopago  exerciciopago  exercicioaberto  \\\n",
       "0       2.415377e+07            29.0   2.371430e+07       4783819.24   \n",
       "1       1.719990e+03             0.0   1.719990e+03             0.00   \n",
       "2       1.454130e+03             0.0   1.454130e+03             0.00   \n",
       "3       4.195685e+04             0.0   3.299939e+04          3940.08   \n",
       "4       2.998170e+03             1.0   1.085580e+03          1077.93   \n",
       "...              ...             ...            ...              ...   \n",
       "257042  6.100000e+03             0.0   6.100000e+03           358.81   \n",
       "257043  3.127100e+02             0.0   3.127100e+02           290.85   \n",
       "257044  1.400000e+02             0.0   1.400000e+02             0.00   \n",
       "257045  5.000000e+01             0.0   5.000000e+01             0.00   \n",
       "257046  0.000000e+00             0.0   0.000000e+00             0.00   \n",
       "\n",
       "        %pago/aberto  %quant.parcelado  \n",
       "0          21.421534         18.954248  \n",
       "1           0.000000          0.000000  \n",
       "2           0.000000          0.000000  \n",
       "3          15.369959          0.000000  \n",
       "4         265.949896         33.333333  \n",
       "...              ...               ...  \n",
       "257042      5.882131          0.000000  \n",
       "257043     93.009498          0.000000  \n",
       "257044      0.000000          0.000000  \n",
       "257045      0.000000          0.000000  \n",
       "257046      0.000000          0.000000  \n",
       "\n",
       "[257047 rows x 12 columns]"
      ]
     },
     "execution_count": 178,
     "metadata": {},
     "output_type": "execute_result"
    }
   ],
   "source": [
    "dados"
   ]
  },
  {
   "cell_type": "code",
   "execution_count": 179,
   "id": "fbb374e0",
   "metadata": {},
   "outputs": [],
   "source": [
    "previsoes = DT.predict(dados.iloc[:, 1:12])"
   ]
  },
  {
   "cell_type": "code",
   "execution_count": 180,
   "id": "c184177a",
   "metadata": {},
   "outputs": [],
   "source": [
    "dados['Previsao'] = previsoes"
   ]
  },
  {
   "cell_type": "code",
   "execution_count": 181,
   "id": "363c91c3",
   "metadata": {
    "scrolled": true
   },
   "outputs": [
    {
     "data": {
      "text/html": [
       "<div>\n",
       "<style scoped>\n",
       "    .dataframe tbody tr th:only-of-type {\n",
       "        vertical-align: middle;\n",
       "    }\n",
       "\n",
       "    .dataframe tbody tr th {\n",
       "        vertical-align: top;\n",
       "    }\n",
       "\n",
       "    .dataframe thead th {\n",
       "        text-align: right;\n",
       "    }\n",
       "</style>\n",
       "<table border=\"1\" class=\"dataframe\">\n",
       "  <thead>\n",
       "    <tr style=\"text-align: right;\">\n",
       "      <th></th>\n",
       "      <th>unicodigo</th>\n",
       "      <th>inscritoDA</th>\n",
       "      <th>parcelado</th>\n",
       "      <th>parceladopago</th>\n",
       "      <th>quant</th>\n",
       "      <th>aberto</th>\n",
       "      <th>pago</th>\n",
       "      <th>qparceladopago</th>\n",
       "      <th>exerciciopago</th>\n",
       "      <th>exercicioaberto</th>\n",
       "      <th>%pago/aberto</th>\n",
       "      <th>%quant.parcelado</th>\n",
       "      <th>Previsao</th>\n",
       "    </tr>\n",
       "  </thead>\n",
       "  <tbody>\n",
       "    <tr>\n",
       "      <th>0</th>\n",
       "      <td>1.0</td>\n",
       "      <td>1.086714e+07</td>\n",
       "      <td>162378.73</td>\n",
       "      <td>488232.49</td>\n",
       "      <td>153.0</td>\n",
       "      <td>5174108.01</td>\n",
       "      <td>2.415377e+07</td>\n",
       "      <td>29.0</td>\n",
       "      <td>2.371430e+07</td>\n",
       "      <td>4783819.24</td>\n",
       "      <td>21.421534</td>\n",
       "      <td>18.954248</td>\n",
       "      <td>1</td>\n",
       "    </tr>\n",
       "    <tr>\n",
       "      <th>1</th>\n",
       "      <td>2.0</td>\n",
       "      <td>0.000000e+00</td>\n",
       "      <td>0.00</td>\n",
       "      <td>0.00</td>\n",
       "      <td>0.0</td>\n",
       "      <td>0.00</td>\n",
       "      <td>1.719990e+03</td>\n",
       "      <td>0.0</td>\n",
       "      <td>1.719990e+03</td>\n",
       "      <td>0.00</td>\n",
       "      <td>0.000000</td>\n",
       "      <td>0.000000</td>\n",
       "      <td>2</td>\n",
       "    </tr>\n",
       "    <tr>\n",
       "      <th>2</th>\n",
       "      <td>3.0</td>\n",
       "      <td>0.000000e+00</td>\n",
       "      <td>0.00</td>\n",
       "      <td>0.00</td>\n",
       "      <td>0.0</td>\n",
       "      <td>0.00</td>\n",
       "      <td>1.454130e+03</td>\n",
       "      <td>0.0</td>\n",
       "      <td>1.454130e+03</td>\n",
       "      <td>0.00</td>\n",
       "      <td>0.000000</td>\n",
       "      <td>0.000000</td>\n",
       "      <td>2</td>\n",
       "    </tr>\n",
       "    <tr>\n",
       "      <th>3</th>\n",
       "      <td>4.0</td>\n",
       "      <td>8.992150e+03</td>\n",
       "      <td>3449.38</td>\n",
       "      <td>20401.20</td>\n",
       "      <td>3.0</td>\n",
       "      <td>6448.75</td>\n",
       "      <td>4.195685e+04</td>\n",
       "      <td>0.0</td>\n",
       "      <td>3.299939e+04</td>\n",
       "      <td>3940.08</td>\n",
       "      <td>15.369959</td>\n",
       "      <td>0.000000</td>\n",
       "      <td>1</td>\n",
       "    </tr>\n",
       "    <tr>\n",
       "      <th>4</th>\n",
       "      <td>5.0</td>\n",
       "      <td>5.643570e+03</td>\n",
       "      <td>3659.04</td>\n",
       "      <td>5974.74</td>\n",
       "      <td>3.0</td>\n",
       "      <td>7973.63</td>\n",
       "      <td>2.998170e+03</td>\n",
       "      <td>1.0</td>\n",
       "      <td>1.085580e+03</td>\n",
       "      <td>1077.93</td>\n",
       "      <td>265.949896</td>\n",
       "      <td>33.333333</td>\n",
       "      <td>1</td>\n",
       "    </tr>\n",
       "    <tr>\n",
       "      <th>...</th>\n",
       "      <td>...</td>\n",
       "      <td>...</td>\n",
       "      <td>...</td>\n",
       "      <td>...</td>\n",
       "      <td>...</td>\n",
       "      <td>...</td>\n",
       "      <td>...</td>\n",
       "      <td>...</td>\n",
       "      <td>...</td>\n",
       "      <td>...</td>\n",
       "      <td>...</td>\n",
       "      <td>...</td>\n",
       "      <td>...</td>\n",
       "    </tr>\n",
       "    <tr>\n",
       "      <th>257042</th>\n",
       "      <td>257043.0</td>\n",
       "      <td>0.000000e+00</td>\n",
       "      <td>0.00</td>\n",
       "      <td>0.00</td>\n",
       "      <td>0.0</td>\n",
       "      <td>358.81</td>\n",
       "      <td>6.100000e+03</td>\n",
       "      <td>0.0</td>\n",
       "      <td>6.100000e+03</td>\n",
       "      <td>358.81</td>\n",
       "      <td>5.882131</td>\n",
       "      <td>0.000000</td>\n",
       "      <td>2</td>\n",
       "    </tr>\n",
       "    <tr>\n",
       "      <th>257043</th>\n",
       "      <td>257044.0</td>\n",
       "      <td>0.000000e+00</td>\n",
       "      <td>0.00</td>\n",
       "      <td>0.00</td>\n",
       "      <td>0.0</td>\n",
       "      <td>290.85</td>\n",
       "      <td>3.127100e+02</td>\n",
       "      <td>0.0</td>\n",
       "      <td>3.127100e+02</td>\n",
       "      <td>290.85</td>\n",
       "      <td>93.009498</td>\n",
       "      <td>0.000000</td>\n",
       "      <td>1</td>\n",
       "    </tr>\n",
       "    <tr>\n",
       "      <th>257044</th>\n",
       "      <td>257045.0</td>\n",
       "      <td>0.000000e+00</td>\n",
       "      <td>0.00</td>\n",
       "      <td>0.00</td>\n",
       "      <td>0.0</td>\n",
       "      <td>0.00</td>\n",
       "      <td>1.400000e+02</td>\n",
       "      <td>0.0</td>\n",
       "      <td>1.400000e+02</td>\n",
       "      <td>0.00</td>\n",
       "      <td>0.000000</td>\n",
       "      <td>0.000000</td>\n",
       "      <td>3</td>\n",
       "    </tr>\n",
       "    <tr>\n",
       "      <th>257045</th>\n",
       "      <td>257046.0</td>\n",
       "      <td>0.000000e+00</td>\n",
       "      <td>0.00</td>\n",
       "      <td>0.00</td>\n",
       "      <td>0.0</td>\n",
       "      <td>0.00</td>\n",
       "      <td>5.000000e+01</td>\n",
       "      <td>0.0</td>\n",
       "      <td>5.000000e+01</td>\n",
       "      <td>0.00</td>\n",
       "      <td>0.000000</td>\n",
       "      <td>0.000000</td>\n",
       "      <td>3</td>\n",
       "    </tr>\n",
       "    <tr>\n",
       "      <th>257046</th>\n",
       "      <td>0.0</td>\n",
       "      <td>0.000000e+00</td>\n",
       "      <td>0.00</td>\n",
       "      <td>0.00</td>\n",
       "      <td>0.0</td>\n",
       "      <td>0.00</td>\n",
       "      <td>0.000000e+00</td>\n",
       "      <td>0.0</td>\n",
       "      <td>0.000000e+00</td>\n",
       "      <td>0.00</td>\n",
       "      <td>0.000000</td>\n",
       "      <td>0.000000</td>\n",
       "      <td>3</td>\n",
       "    </tr>\n",
       "  </tbody>\n",
       "</table>\n",
       "<p>257047 rows × 13 columns</p>\n",
       "</div>"
      ],
      "text/plain": [
       "        unicodigo    inscritoDA  parcelado  parceladopago  quant      aberto  \\\n",
       "0             1.0  1.086714e+07  162378.73      488232.49  153.0  5174108.01   \n",
       "1             2.0  0.000000e+00       0.00           0.00    0.0        0.00   \n",
       "2             3.0  0.000000e+00       0.00           0.00    0.0        0.00   \n",
       "3             4.0  8.992150e+03    3449.38       20401.20    3.0     6448.75   \n",
       "4             5.0  5.643570e+03    3659.04        5974.74    3.0     7973.63   \n",
       "...           ...           ...        ...            ...    ...         ...   \n",
       "257042   257043.0  0.000000e+00       0.00           0.00    0.0      358.81   \n",
       "257043   257044.0  0.000000e+00       0.00           0.00    0.0      290.85   \n",
       "257044   257045.0  0.000000e+00       0.00           0.00    0.0        0.00   \n",
       "257045   257046.0  0.000000e+00       0.00           0.00    0.0        0.00   \n",
       "257046        0.0  0.000000e+00       0.00           0.00    0.0        0.00   \n",
       "\n",
       "                pago  qparceladopago  exerciciopago  exercicioaberto  \\\n",
       "0       2.415377e+07            29.0   2.371430e+07       4783819.24   \n",
       "1       1.719990e+03             0.0   1.719990e+03             0.00   \n",
       "2       1.454130e+03             0.0   1.454130e+03             0.00   \n",
       "3       4.195685e+04             0.0   3.299939e+04          3940.08   \n",
       "4       2.998170e+03             1.0   1.085580e+03          1077.93   \n",
       "...              ...             ...            ...              ...   \n",
       "257042  6.100000e+03             0.0   6.100000e+03           358.81   \n",
       "257043  3.127100e+02             0.0   3.127100e+02           290.85   \n",
       "257044  1.400000e+02             0.0   1.400000e+02             0.00   \n",
       "257045  5.000000e+01             0.0   5.000000e+01             0.00   \n",
       "257046  0.000000e+00             0.0   0.000000e+00             0.00   \n",
       "\n",
       "        %pago/aberto  %quant.parcelado  Previsao  \n",
       "0          21.421534         18.954248         1  \n",
       "1           0.000000          0.000000         2  \n",
       "2           0.000000          0.000000         2  \n",
       "3          15.369959          0.000000         1  \n",
       "4         265.949896         33.333333         1  \n",
       "...              ...               ...       ...  \n",
       "257042      5.882131          0.000000         2  \n",
       "257043     93.009498          0.000000         1  \n",
       "257044      0.000000          0.000000         3  \n",
       "257045      0.000000          0.000000         3  \n",
       "257046      0.000000          0.000000         3  \n",
       "\n",
       "[257047 rows x 13 columns]"
      ]
     },
     "execution_count": 181,
     "metadata": {},
     "output_type": "execute_result"
    }
   ],
   "source": [
    "dados"
   ]
  },
  {
   "cell_type": "code",
   "execution_count": 182,
   "id": "0db62c62",
   "metadata": {},
   "outputs": [],
   "source": [
    "dados.to_excel('dados_com_previsoes1.xlsx', index=False)"
   ]
  },
  {
   "cell_type": "markdown",
   "id": "4e98fb7b",
   "metadata": {},
   "source": [
    "# visualização - interpretação"
   ]
  },
  {
   "cell_type": "markdown",
   "id": "32739c5d",
   "metadata": {},
   "source": [
    "O modelo apresentou uma acurácia de 0,7 e um AUC de 0,66, indicando um desempenho moderado na classificação dos perfis de devedores. A análise da matriz de confusão revelou que a maior dificuldade do modelo está em classificar corretamente os pagadores medianos, sugerindo que essa categoria pode ter características menos distintas em relação aos bons e maus pagadores.\n",
    "\n",
    "Variáveis mais significativas:\n",
    "As variáveis que mais contribuíram para o modelo foram:\n",
    "\n",
    "%aberto/pago: Indica a porcentagem de valores em aberto em relação aos valores já pagos.\n",
    "\n",
    "exerciciopago: Representa o valor pago no ano da dívida.\n",
    "\n",
    "exercicioaberto: Reflete o valor de lançamentos realizado no ano que ainda está em aberto.\n",
    "\n",
    "aberto: Indica o valor total em aberto.\n",
    "\n",
    "Essas variáveis demonstraram ser as mais relevantes para a classificação dos devedores, destacando-se como indicadores-chave para a distinção entre os perfis.\n",
    "\n",
    "Árvore de Decisão:\n",
    "A ilustração da árvore de decisão gerada pelo modelo permite visualizar as regras de classificação utilizadas em cada divisão. Essa transparência é uma vantagem significativa, pois possibilita a replicação das regras em novos casos e facilita a interpretação dos resultados por parte dos gestores."
   ]
  },
  {
   "cell_type": "code",
   "execution_count": 183,
   "id": "783d57f1",
   "metadata": {
    "scrolled": false
   },
   "outputs": [
    {
     "data": {
      "image/png": "[encoded data removed]",
      "text/plain": [
       "<Figure size 800x600 with 1 Axes>"
      ]
     },
     "metadata": {},
     "output_type": "display_data"
    }
   ],
   "source": [
    "cm = confusion_matrix(y_teste, opiniao)\n",
    "\n",
    "# Plotar o heatmap\n",
    "plt.figure(figsize=(8, 6))\n",
    "sns.heatmap(cm, annot=True, fmt=\"d\", cmap=\"Blues\", cbar=False)\n",
    "plt.xlabel(\"Valores Preditos\")\n",
    "plt.ylabel(\"Valores Reais\")\n",
    "plt.title(\"Matriz de Confusão\")\n",
    "plt.show()"
   ]
  },
  {
   "cell_type": "code",
   "execution_count": 184,
   "id": "c672945d",
   "metadata": {
    "scrolled": false
   },
   "outputs": [
    {
     "name": "stdout",
     "output_type": "stream",
     "text": [
      "              precision    recall  f1-score   support\n",
      "\n",
      "           1       0.83      0.71      0.77        21\n",
      "           2       0.56      0.42      0.48        12\n",
      "           3       0.65      0.88      0.75        17\n",
      "\n",
      "    accuracy                           0.70        50\n",
      "   macro avg       0.68      0.67      0.67        50\n",
      "weighted avg       0.71      0.70      0.69        50\n",
      "\n"
     ]
    }
   ],
   "source": [
    "print(classification_report(y_teste,opiniao))"
   ]
  },
  {
   "cell_type": "code",
   "execution_count": 185,
   "id": "4363db9b",
   "metadata": {
    "scrolled": true
   },
   "outputs": [
    {
     "name": "stdout",
     "output_type": "stream",
     "text": [
      "Importância das Features:\n",
      "             Feature  Importance\n",
      "7      exerciciopago    0.300569\n",
      "9       %pago/aberto    0.229648\n",
      "4             aberto    0.116378\n",
      "8    exercicioaberto    0.114266\n",
      "0         inscritoDA    0.085225\n",
      "10  %quant.parcelado    0.078587\n",
      "5               pago    0.075325\n",
      "1          parcelado    0.000000\n",
      "2      parceladopago    0.000000\n",
      "3              quant    0.000000\n",
      "6     qparceladopago    0.000000\n"
     ]
    }
   ],
   "source": [
    "feature_importances = DT.feature_importances_\n",
    "features = x_treino.columns if isinstance(x_treino, pd.DataFrame) else range(len(feature_importances))\n",
    "importances_df = pd.DataFrame({'Feature': features, 'Importance': feature_importances})\n",
    "importances_df = importances_df.sort_values(by=\"Importance\", ascending=False)\n",
    "\n",
    "print(\"Importância das Features:\")\n",
    "print(importances_df)"
   ]
  },
  {
   "cell_type": "code",
   "execution_count": 186,
   "id": "d8148d07",
   "metadata": {
    "scrolled": false
   },
   "outputs": [
    {
     "name": "stdout",
     "output_type": "stream",
     "text": [
      "|--- exerciciopago <= 833.96\n",
      "|   |--- %quant.parcelado <= 29.17\n",
      "|   |   |--- inscritoDA <= 594.31\n",
      "|   |   |   |--- %pago/aberto <= 1901.70\n",
      "|   |   |   |   |--- inscritoDA <= 415.47\n",
      "|   |   |   |   |   |--- aberto <= 101.21\n",
      "|   |   |   |   |   |   |--- %pago/aberto <= 34.10\n",
      "|   |   |   |   |   |   |   |--- exercicioaberto <= 25.00\n",
      "|   |   |   |   |   |   |   |   |--- inscritoDA <= 199.51\n",
      "|   |   |   |   |   |   |   |   |   |--- class: 3\n",
      "|   |   |   |   |   |   |   |   |--- inscritoDA >  199.51\n",
      "|   |   |   |   |   |   |   |   |   |--- class: 1\n",
      "|   |   |   |   |   |   |   |--- exercicioaberto >  25.00\n",
      "|   |   |   |   |   |   |   |   |--- class: 1\n",
      "|   |   |   |   |   |   |--- %pago/aberto >  34.10\n",
      "|   |   |   |   |   |   |   |--- class: 2\n",
      "|   |   |   |   |   |--- aberto >  101.21\n",
      "|   |   |   |   |   |   |--- class: 1\n",
      "|   |   |   |   |--- inscritoDA >  415.47\n",
      "|   |   |   |   |   |--- class: 3\n",
      "|   |   |   |--- %pago/aberto >  1901.70\n",
      "|   |   |   |   |--- class: 2\n",
      "|   |   |--- inscritoDA >  594.31\n",
      "|   |   |   |--- %pago/aberto <= 624.68\n",
      "|   |   |   |   |--- class: 1\n",
      "|   |   |   |--- %pago/aberto >  624.68\n",
      "|   |   |   |   |--- %pago/aberto <= 1032.37\n",
      "|   |   |   |   |   |--- class: 3\n",
      "|   |   |   |   |--- %pago/aberto >  1032.37\n",
      "|   |   |   |   |   |--- class: 1\n",
      "|   |--- %quant.parcelado >  29.17\n",
      "|   |   |--- class: 3\n",
      "|--- exerciciopago >  833.96\n",
      "|   |--- aberto <= 6144.43\n",
      "|   |   |--- exerciciopago <= 11825.88\n",
      "|   |   |   |--- %pago/aberto <= 28.69\n",
      "|   |   |   |   |--- pago <= 6026.96\n",
      "|   |   |   |   |   |--- pago <= 2168.92\n",
      "|   |   |   |   |   |   |--- class: 2\n",
      "|   |   |   |   |   |--- pago >  2168.92\n",
      "|   |   |   |   |   |   |--- class: 3\n",
      "|   |   |   |   |--- pago >  6026.96\n",
      "|   |   |   |   |   |--- exercicioaberto <= 805.92\n",
      "|   |   |   |   |   |   |--- pago <= 9163.95\n",
      "|   |   |   |   |   |   |   |--- class: 2\n",
      "|   |   |   |   |   |   |--- pago >  9163.95\n",
      "|   |   |   |   |   |   |   |--- exerciciopago <= 5915.11\n",
      "|   |   |   |   |   |   |   |   |--- class: 2\n",
      "|   |   |   |   |   |   |   |--- exerciciopago >  5915.11\n",
      "|   |   |   |   |   |   |   |   |--- exerciciopago <= 10728.78\n",
      "|   |   |   |   |   |   |   |   |   |--- class: 3\n",
      "|   |   |   |   |   |   |   |   |--- exerciciopago >  10728.78\n",
      "|   |   |   |   |   |   |   |   |   |--- class: 2\n",
      "|   |   |   |   |   |--- exercicioaberto >  805.92\n",
      "|   |   |   |   |   |   |--- class: 3\n",
      "|   |   |   |--- %pago/aberto >  28.69\n",
      "|   |   |   |   |--- %pago/aberto <= 45.00\n",
      "|   |   |   |   |   |--- %pago/aberto <= 29.98\n",
      "|   |   |   |   |   |   |--- class: 2\n",
      "|   |   |   |   |   |--- %pago/aberto >  29.98\n",
      "|   |   |   |   |   |   |--- class: 1\n",
      "|   |   |   |   |--- %pago/aberto >  45.00\n",
      "|   |   |   |   |   |--- exercicioaberto <= 1751.41\n",
      "|   |   |   |   |   |   |--- %pago/aberto <= 144.21\n",
      "|   |   |   |   |   |   |   |--- class: 2\n",
      "|   |   |   |   |   |   |--- %pago/aberto >  144.21\n",
      "|   |   |   |   |   |   |   |--- class: 3\n",
      "|   |   |   |   |   |--- exercicioaberto >  1751.41\n",
      "|   |   |   |   |   |   |--- class: 1\n",
      "|   |   |--- exerciciopago >  11825.88\n",
      "|   |   |   |--- %pago/aberto <= 1.40\n",
      "|   |   |   |   |--- class: 2\n",
      "|   |   |   |--- %pago/aberto >  1.40\n",
      "|   |   |   |   |--- %quant.parcelado <= 29.17\n",
      "|   |   |   |   |   |--- class: 3\n",
      "|   |   |   |   |--- %quant.parcelado >  29.17\n",
      "|   |   |   |   |   |--- class: 2\n",
      "|   |--- aberto >  6144.43\n",
      "|   |   |--- exercicioaberto <= 7157.04\n",
      "|   |   |   |--- %quant.parcelado <= 51.43\n",
      "|   |   |   |   |--- class: 1\n",
      "|   |   |   |--- %quant.parcelado >  51.43\n",
      "|   |   |   |   |--- class: 3\n",
      "|   |   |--- exercicioaberto >  7157.04\n",
      "|   |   |   |--- inscritoDA <= 59890.35\n",
      "|   |   |   |   |--- class: 3\n",
      "|   |   |   |--- inscritoDA >  59890.35\n",
      "|   |   |   |   |--- class: 1\n",
      "\n"
     ]
    }
   ],
   "source": [
    "from sklearn.tree import export_text\n",
    "\n",
    "tree_rules = export_text(DT, feature_names=list(features))\n",
    "print(tree_rules)"
   ]
  },
  {
   "cell_type": "markdown",
   "id": "794116cb",
   "metadata": {},
   "source": [
    "Dashbord dos dados apos a aplicação do modelo"
   ]
  },
  {
   "cell_type": "markdown",
   "id": "4939e277",
   "metadata": {},
   "source": [
    "![dashboard dos grupo](dash_finaal.png)"
   ]
  },
  {
   "cell_type": "markdown",
   "id": "cc0478eb",
   "metadata": {},
   "source": [
    "# **Conclusão**\n"
   ]
  },
  {
   "cell_type": "markdown",
   "id": "c1739526",
   "metadata": {},
   "source": [
    "Os valores de acurácia e AUC obtidos pelo modelo podem ser considerados resultados moderados, indicando que o modelo tem uma capacidade razoável de classificar os perfis de devedores, mas ainda com espaço para melhorias. Para aprimorar esses resultados, algumas abordagens poderiam ser testadas, como:\n",
    "\n",
    "Remoção de variáveis com alta correlação, reduzindo redundâncias e simplificando o modelo.\n",
    "\n",
    "Aplicação de técnicas de redução de dimensionalidade, como PCA (Análise de Componentes Principais), para concentrar a informação em um número menor de variáveis.\n",
    "\n",
    "Análise e tratamento de inconsistências na amostra, garantindo que os dados sejam representativos e de alta qualidade.\n",
    "\n",
    "Otimização de hiperparâmetros do modelo.\n",
    "\n",
    "No entanto, é importante destacar que este projeto foi desenvolvido apenas para fins de portfólio, e algumas variáveis originais foram removidas ou codificadas para preservar a confidencialidade de dados sensíveis. Por esse motivo, não serão realizados testes adicionais ou ajustes mais aprofundados no modelo.\n",
    "\n",
    "Apesar das limitações, o trabalho realizado demonstra a aplicação prática de técnicas de ciência de dados para a classificação de devedores, servindo como uma base sólida para projetos futuros que possam contar com dados mais completos e detalhados."
   ]
  }
 ],
 "metadata": {
  "kernelspec": {
   "display_name": "Python 3 (ipykernel)",
   "language": "python",
   "name": "python3"
  },
  "language_info": {
   "codemirror_mode": {
    "name": "ipython",
    "version": 3
   },
   "file_extension": ".py",
   "mimetype": "text/x-python",
   "name": "python",
   "nbconvert_exporter": "python",
   "pygments_lexer": "ipython3",
   "version": "3.9.13"
  }
 },
 "nbformat": 4,
 "nbformat_minor": 5
}
